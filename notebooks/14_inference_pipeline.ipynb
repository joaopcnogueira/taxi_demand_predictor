{
 "cells": [
  {
   "cell_type": "code",
   "execution_count": 1,
   "metadata": {},
   "outputs": [],
   "source": [
    "%load_ext autoreload\n",
    "%autoreload 2"
   ]
  },
  {
   "cell_type": "code",
   "execution_count": 2,
   "metadata": {},
   "outputs": [
    {
     "name": "stdout",
     "output_type": "stream",
     "text": [
      "current_date=2023-05-24 08:00:00\n"
     ]
    }
   ],
   "source": [
    "from datetime import datetime, timedelta\n",
    "import pandas as pd\n",
    "\n",
    "current_date = pd.to_datetime(datetime.utcnow()).floor('H')\n",
    "print(f'current_date={current_date}')"
   ]
  },
  {
   "cell_type": "code",
   "execution_count": 6,
   "metadata": {},
   "outputs": [
    {
     "name": "stdout",
     "output_type": "stream",
     "text": [
      "Connected. Call `.close()` to terminate connection gracefully.\n"
     ]
    },
    {
     "name": "stderr",
     "output_type": "stream",
     "text": [
      "InsecureRequestWarning: Unverified HTTPS request is being made to host 'c.app.hopsworks.ai'. Adding certificate verification is strongly advised. See: https://urllib3.readthedocs.io/en/1.26.x/advanced-usage.html#ssl-warnings\n"
     ]
    },
    {
     "name": "stdout",
     "output_type": "stream",
     "text": [
      "\n",
      "Logged in to project, explore it here https://c.app.hopsworks.ai:443/p/47255\n",
      "Connected. Call `.close()` to terminate connection gracefully.\n",
      "Fetching data from 2023-04-26 08:00:00 to 2023-05-24 07:00:00\n"
     ]
    },
    {
     "name": "stderr",
     "output_type": "stream",
     "text": [
      "InsecureRequestWarning: Unverified HTTPS request is being made to host 'c.app.hopsworks.ai'. Adding certificate verification is strongly advised. See: https://urllib3.readthedocs.io/en/1.26.x/advanced-usage.html#ssl-warnings\n",
      "VersionWarning: No training dataset version was provided to initialise batch scoring . Defaulting to version 1.\n",
      "DeprecationWarning: ssl.PROTOCOL_TLS is deprecated\n"
     ]
    },
    {
     "name": "stdout",
     "output_type": "stream",
     "text": [
      "2023-05-24 05:58:03,945 INFO: USE `taxi_demand_ytjqdg_featurestore`\n",
      "2023-05-24 05:58:04,401 INFO: SELECT `fg0`.`pickup_hour` `pickup_hour`, `fg0`.`rides` `rides`, `fg0`.`pickup_location_id` `pickup_location_id`\n",
      "FROM `taxi_demand_ytjqdg_featurestore`.`time_series_hourly_feature_group_1` `fg0`\n",
      "WHERE `fg0`.`pickup_hour` >= TIMESTAMP '2023-04-25 08:00:00.000' AND `fg0`.`pickup_hour` <= TIMESTAMP '2023-05-25 07:00:00.000'\n"
     ]
    },
    {
     "name": "stderr",
     "output_type": "stream",
     "text": [
      "UserWarning: pandas only supports SQLAlchemy connectable (engine/connection) or database string URI or sqlite3 DBAPI2 connection. Other DBAPI2 objects are not tested. Please consider using SQLAlchemy.\n",
      "InsecureRequestWarning: Unverified HTTPS request is being made to host 'c.app.hopsworks.ai'. Adding certificate verification is strongly advised. See: https://urllib3.readthedocs.io/en/1.26.x/advanced-usage.html#ssl-warnings\n"
     ]
    }
   ],
   "source": [
    "from src.inference import load_batch_of_features_from_store\n",
    "\n",
    "features = load_batch_of_features_from_store(current_date)"
   ]
  },
  {
   "cell_type": "code",
   "execution_count": 7,
   "metadata": {},
   "outputs": [
    {
     "data": {
      "text/html": [
       "<div>\n",
       "<style scoped>\n",
       "    .dataframe tbody tr th:only-of-type {\n",
       "        vertical-align: middle;\n",
       "    }\n",
       "\n",
       "    .dataframe tbody tr th {\n",
       "        vertical-align: top;\n",
       "    }\n",
       "\n",
       "    .dataframe thead th {\n",
       "        text-align: right;\n",
       "    }\n",
       "</style>\n",
       "<table border=\"1\" class=\"dataframe\">\n",
       "  <thead>\n",
       "    <tr style=\"text-align: right;\">\n",
       "      <th></th>\n",
       "      <th>rides_previous_672_hour</th>\n",
       "      <th>rides_previous_671_hour</th>\n",
       "      <th>rides_previous_670_hour</th>\n",
       "      <th>rides_previous_669_hour</th>\n",
       "      <th>rides_previous_668_hour</th>\n",
       "      <th>rides_previous_667_hour</th>\n",
       "      <th>rides_previous_666_hour</th>\n",
       "      <th>rides_previous_665_hour</th>\n",
       "      <th>rides_previous_664_hour</th>\n",
       "      <th>rides_previous_663_hour</th>\n",
       "      <th>...</th>\n",
       "      <th>rides_previous_8_hour</th>\n",
       "      <th>rides_previous_7_hour</th>\n",
       "      <th>rides_previous_6_hour</th>\n",
       "      <th>rides_previous_5_hour</th>\n",
       "      <th>rides_previous_4_hour</th>\n",
       "      <th>rides_previous_3_hour</th>\n",
       "      <th>rides_previous_2_hour</th>\n",
       "      <th>rides_previous_1_hour</th>\n",
       "      <th>pickup_hour</th>\n",
       "      <th>pickup_location_id</th>\n",
       "    </tr>\n",
       "  </thead>\n",
       "  <tbody>\n",
       "    <tr>\n",
       "      <th>166</th>\n",
       "      <td>0.0</td>\n",
       "      <td>1.0</td>\n",
       "      <td>2.0</td>\n",
       "      <td>1.0</td>\n",
       "      <td>0.0</td>\n",
       "      <td>0.0</td>\n",
       "      <td>2.0</td>\n",
       "      <td>8.0</td>\n",
       "      <td>1.0</td>\n",
       "      <td>0.0</td>\n",
       "      <td>...</td>\n",
       "      <td>0.0</td>\n",
       "      <td>0.0</td>\n",
       "      <td>0.0</td>\n",
       "      <td>0.0</td>\n",
       "      <td>0.0</td>\n",
       "      <td>0.0</td>\n",
       "      <td>0.0</td>\n",
       "      <td>2.0</td>\n",
       "      <td>2023-05-24 08:00:00</td>\n",
       "      <td>1</td>\n",
       "    </tr>\n",
       "    <tr>\n",
       "      <th>250</th>\n",
       "      <td>0.0</td>\n",
       "      <td>0.0</td>\n",
       "      <td>0.0</td>\n",
       "      <td>0.0</td>\n",
       "      <td>0.0</td>\n",
       "      <td>0.0</td>\n",
       "      <td>0.0</td>\n",
       "      <td>0.0</td>\n",
       "      <td>0.0</td>\n",
       "      <td>0.0</td>\n",
       "      <td>...</td>\n",
       "      <td>0.0</td>\n",
       "      <td>0.0</td>\n",
       "      <td>0.0</td>\n",
       "      <td>0.0</td>\n",
       "      <td>0.0</td>\n",
       "      <td>0.0</td>\n",
       "      <td>0.0</td>\n",
       "      <td>0.0</td>\n",
       "      <td>2023-05-24 08:00:00</td>\n",
       "      <td>2</td>\n",
       "    </tr>\n",
       "    <tr>\n",
       "      <th>54</th>\n",
       "      <td>0.0</td>\n",
       "      <td>1.0</td>\n",
       "      <td>1.0</td>\n",
       "      <td>0.0</td>\n",
       "      <td>0.0</td>\n",
       "      <td>1.0</td>\n",
       "      <td>0.0</td>\n",
       "      <td>0.0</td>\n",
       "      <td>0.0</td>\n",
       "      <td>0.0</td>\n",
       "      <td>...</td>\n",
       "      <td>0.0</td>\n",
       "      <td>0.0</td>\n",
       "      <td>0.0</td>\n",
       "      <td>0.0</td>\n",
       "      <td>0.0</td>\n",
       "      <td>0.0</td>\n",
       "      <td>0.0</td>\n",
       "      <td>0.0</td>\n",
       "      <td>2023-05-24 08:00:00</td>\n",
       "      <td>3</td>\n",
       "    </tr>\n",
       "    <tr>\n",
       "      <th>71</th>\n",
       "      <td>6.0</td>\n",
       "      <td>10.0</td>\n",
       "      <td>4.0</td>\n",
       "      <td>2.0</td>\n",
       "      <td>1.0</td>\n",
       "      <td>3.0</td>\n",
       "      <td>8.0</td>\n",
       "      <td>2.0</td>\n",
       "      <td>3.0</td>\n",
       "      <td>5.0</td>\n",
       "      <td>...</td>\n",
       "      <td>3.0</td>\n",
       "      <td>0.0</td>\n",
       "      <td>1.0</td>\n",
       "      <td>1.0</td>\n",
       "      <td>1.0</td>\n",
       "      <td>0.0</td>\n",
       "      <td>1.0</td>\n",
       "      <td>9.0</td>\n",
       "      <td>2023-05-24 08:00:00</td>\n",
       "      <td>4</td>\n",
       "    </tr>\n",
       "    <tr>\n",
       "      <th>69</th>\n",
       "      <td>0.0</td>\n",
       "      <td>0.0</td>\n",
       "      <td>0.0</td>\n",
       "      <td>0.0</td>\n",
       "      <td>1.0</td>\n",
       "      <td>0.0</td>\n",
       "      <td>0.0</td>\n",
       "      <td>0.0</td>\n",
       "      <td>1.0</td>\n",
       "      <td>0.0</td>\n",
       "      <td>...</td>\n",
       "      <td>0.0</td>\n",
       "      <td>0.0</td>\n",
       "      <td>0.0</td>\n",
       "      <td>0.0</td>\n",
       "      <td>0.0</td>\n",
       "      <td>0.0</td>\n",
       "      <td>0.0</td>\n",
       "      <td>0.0</td>\n",
       "      <td>2023-05-24 08:00:00</td>\n",
       "      <td>5</td>\n",
       "    </tr>\n",
       "  </tbody>\n",
       "</table>\n",
       "<p>5 rows × 674 columns</p>\n",
       "</div>"
      ],
      "text/plain": [
       "     rides_previous_672_hour  rides_previous_671_hour  \\\n",
       "166                      0.0                      1.0   \n",
       "250                      0.0                      0.0   \n",
       "54                       0.0                      1.0   \n",
       "71                       6.0                     10.0   \n",
       "69                       0.0                      0.0   \n",
       "\n",
       "     rides_previous_670_hour  rides_previous_669_hour  \\\n",
       "166                      2.0                      1.0   \n",
       "250                      0.0                      0.0   \n",
       "54                       1.0                      0.0   \n",
       "71                       4.0                      2.0   \n",
       "69                       0.0                      0.0   \n",
       "\n",
       "     rides_previous_668_hour  rides_previous_667_hour  \\\n",
       "166                      0.0                      0.0   \n",
       "250                      0.0                      0.0   \n",
       "54                       0.0                      1.0   \n",
       "71                       1.0                      3.0   \n",
       "69                       1.0                      0.0   \n",
       "\n",
       "     rides_previous_666_hour  rides_previous_665_hour  \\\n",
       "166                      2.0                      8.0   \n",
       "250                      0.0                      0.0   \n",
       "54                       0.0                      0.0   \n",
       "71                       8.0                      2.0   \n",
       "69                       0.0                      0.0   \n",
       "\n",
       "     rides_previous_664_hour  rides_previous_663_hour  ...  \\\n",
       "166                      1.0                      0.0  ...   \n",
       "250                      0.0                      0.0  ...   \n",
       "54                       0.0                      0.0  ...   \n",
       "71                       3.0                      5.0  ...   \n",
       "69                       1.0                      0.0  ...   \n",
       "\n",
       "     rides_previous_8_hour  rides_previous_7_hour  rides_previous_6_hour  \\\n",
       "166                    0.0                    0.0                    0.0   \n",
       "250                    0.0                    0.0                    0.0   \n",
       "54                     0.0                    0.0                    0.0   \n",
       "71                     3.0                    0.0                    1.0   \n",
       "69                     0.0                    0.0                    0.0   \n",
       "\n",
       "     rides_previous_5_hour  rides_previous_4_hour  rides_previous_3_hour  \\\n",
       "166                    0.0                    0.0                    0.0   \n",
       "250                    0.0                    0.0                    0.0   \n",
       "54                     0.0                    0.0                    0.0   \n",
       "71                     1.0                    1.0                    0.0   \n",
       "69                     0.0                    0.0                    0.0   \n",
       "\n",
       "     rides_previous_2_hour  rides_previous_1_hour         pickup_hour  \\\n",
       "166                    0.0                    2.0 2023-05-24 08:00:00   \n",
       "250                    0.0                    0.0 2023-05-24 08:00:00   \n",
       "54                     0.0                    0.0 2023-05-24 08:00:00   \n",
       "71                     1.0                    9.0 2023-05-24 08:00:00   \n",
       "69                     0.0                    0.0 2023-05-24 08:00:00   \n",
       "\n",
       "     pickup_location_id  \n",
       "166                   1  \n",
       "250                   2  \n",
       "54                    3  \n",
       "71                    4  \n",
       "69                    5  \n",
       "\n",
       "[5 rows x 674 columns]"
      ]
     },
     "execution_count": 7,
     "metadata": {},
     "output_type": "execute_result"
    }
   ],
   "source": [
    "features.head()"
   ]
  },
  {
   "cell_type": "code",
   "execution_count": 8,
   "metadata": {},
   "outputs": [
    {
     "name": "stdout",
     "output_type": "stream",
     "text": [
      "Connection closed.\n",
      "Connected. Call `.close()` to terminate connection gracefully.\n"
     ]
    },
    {
     "name": "stderr",
     "output_type": "stream",
     "text": [
      "InsecureRequestWarning: Unverified HTTPS request is being made to host 'c.app.hopsworks.ai'. Adding certificate verification is strongly advised. See: https://urllib3.readthedocs.io/en/1.26.x/advanced-usage.html#ssl-warnings\n"
     ]
    },
    {
     "name": "stdout",
     "output_type": "stream",
     "text": [
      "\n",
      "Logged in to project, explore it here https://c.app.hopsworks.ai:443/p/47255\n",
      "Connected. Call `.close()` to terminate connection gracefully.\n",
      "Downloading file ... "
     ]
    }
   ],
   "source": [
    "from src.inference import load_model_from_registry, get_model_predictions\n",
    "\n",
    "model = load_model_from_registry()\n",
    "predictions = get_model_predictions(model, features)"
   ]
  },
  {
   "cell_type": "code",
   "execution_count": 10,
   "metadata": {},
   "outputs": [
    {
     "data": {
      "text/html": [
       "<div>\n",
       "<style scoped>\n",
       "    .dataframe tbody tr th:only-of-type {\n",
       "        vertical-align: middle;\n",
       "    }\n",
       "\n",
       "    .dataframe tbody tr th {\n",
       "        vertical-align: top;\n",
       "    }\n",
       "\n",
       "    .dataframe thead th {\n",
       "        text-align: right;\n",
       "    }\n",
       "</style>\n",
       "<table border=\"1\" class=\"dataframe\">\n",
       "  <thead>\n",
       "    <tr style=\"text-align: right;\">\n",
       "      <th></th>\n",
       "      <th>pickup_location_id</th>\n",
       "      <th>predicted_demand</th>\n",
       "      <th>pickup_hour</th>\n",
       "    </tr>\n",
       "  </thead>\n",
       "  <tbody>\n",
       "    <tr>\n",
       "      <th>0</th>\n",
       "      <td>1</td>\n",
       "      <td>1.0</td>\n",
       "      <td>2023-05-24 08:00:00</td>\n",
       "    </tr>\n",
       "    <tr>\n",
       "      <th>1</th>\n",
       "      <td>2</td>\n",
       "      <td>0.0</td>\n",
       "      <td>2023-05-24 08:00:00</td>\n",
       "    </tr>\n",
       "    <tr>\n",
       "      <th>2</th>\n",
       "      <td>3</td>\n",
       "      <td>0.0</td>\n",
       "      <td>2023-05-24 08:00:00</td>\n",
       "    </tr>\n",
       "    <tr>\n",
       "      <th>3</th>\n",
       "      <td>4</td>\n",
       "      <td>7.0</td>\n",
       "      <td>2023-05-24 08:00:00</td>\n",
       "    </tr>\n",
       "    <tr>\n",
       "      <th>4</th>\n",
       "      <td>5</td>\n",
       "      <td>0.0</td>\n",
       "      <td>2023-05-24 08:00:00</td>\n",
       "    </tr>\n",
       "    <tr>\n",
       "      <th>...</th>\n",
       "      <td>...</td>\n",
       "      <td>...</td>\n",
       "      <td>...</td>\n",
       "    </tr>\n",
       "    <tr>\n",
       "      <th>260</th>\n",
       "      <td>261</td>\n",
       "      <td>18.0</td>\n",
       "      <td>2023-05-24 08:00:00</td>\n",
       "    </tr>\n",
       "    <tr>\n",
       "      <th>261</th>\n",
       "      <td>262</td>\n",
       "      <td>104.0</td>\n",
       "      <td>2023-05-24 08:00:00</td>\n",
       "    </tr>\n",
       "    <tr>\n",
       "      <th>262</th>\n",
       "      <td>263</td>\n",
       "      <td>112.0</td>\n",
       "      <td>2023-05-24 08:00:00</td>\n",
       "    </tr>\n",
       "    <tr>\n",
       "      <th>263</th>\n",
       "      <td>264</td>\n",
       "      <td>52.0</td>\n",
       "      <td>2023-05-24 08:00:00</td>\n",
       "    </tr>\n",
       "    <tr>\n",
       "      <th>264</th>\n",
       "      <td>265</td>\n",
       "      <td>16.0</td>\n",
       "      <td>2023-05-24 08:00:00</td>\n",
       "    </tr>\n",
       "  </tbody>\n",
       "</table>\n",
       "<p>265 rows × 3 columns</p>\n",
       "</div>"
      ],
      "text/plain": [
       "     pickup_location_id  predicted_demand         pickup_hour\n",
       "0                     1               1.0 2023-05-24 08:00:00\n",
       "1                     2               0.0 2023-05-24 08:00:00\n",
       "2                     3               0.0 2023-05-24 08:00:00\n",
       "3                     4               7.0 2023-05-24 08:00:00\n",
       "4                     5               0.0 2023-05-24 08:00:00\n",
       "..                  ...               ...                 ...\n",
       "260                 261              18.0 2023-05-24 08:00:00\n",
       "261                 262             104.0 2023-05-24 08:00:00\n",
       "262                 263             112.0 2023-05-24 08:00:00\n",
       "263                 264              52.0 2023-05-24 08:00:00\n",
       "264                 265              16.0 2023-05-24 08:00:00\n",
       "\n",
       "[265 rows x 3 columns]"
      ]
     },
     "execution_count": 10,
     "metadata": {},
     "output_type": "execute_result"
    }
   ],
   "source": [
    "predictions['pickup_hour'] = current_date\n",
    "predictions"
   ]
  },
  {
   "attachments": {},
   "cell_type": "markdown",
   "metadata": {},
   "source": [
    "### Save these predictions in the feature store, so they can be later consumed by our Streamlit app"
   ]
  },
  {
   "cell_type": "code",
   "execution_count": 11,
   "metadata": {},
   "outputs": [
    {
     "name": "stdout",
     "output_type": "stream",
     "text": [
      "Connection closed.\n",
      "Connected. Call `.close()` to terminate connection gracefully.\n"
     ]
    },
    {
     "name": "stderr",
     "output_type": "stream",
     "text": [
      "InsecureRequestWarning: Unverified HTTPS request is being made to host 'c.app.hopsworks.ai'. Adding certificate verification is strongly advised. See: https://urllib3.readthedocs.io/en/1.26.x/advanced-usage.html#ssl-warnings\n"
     ]
    },
    {
     "name": "stdout",
     "output_type": "stream",
     "text": [
      "\n",
      "Logged in to project, explore it here https://c.app.hopsworks.ai:443/p/47255\n",
      "Connected. Call `.close()` to terminate connection gracefully.\n"
     ]
    }
   ],
   "source": [
    "from src.feature_store_api import get_feature_store\n",
    "import src.config as config\n",
    "\n",
    "# connect to the feature group\n",
    "feature_group = get_feature_store().get_or_create_feature_group(\n",
    "    name=config.FEATURE_GROUP_MODEL_PREDICTIONS,\n",
    "    version=1,\n",
    "    description=\"Predictions generate by our production model\",\n",
    "    primary_key = ['pickup_location_id', 'pickup_hour'],\n",
    "    event_time='pickup_hour',\n",
    ")"
   ]
  },
  {
   "cell_type": "code",
   "execution_count": 12,
   "metadata": {},
   "outputs": [
    {
     "name": "stderr",
     "output_type": "stream",
     "text": [
      "InsecureRequestWarning: Unverified HTTPS request is being made to host 'c.app.hopsworks.ai'. Adding certificate verification is strongly advised. See: https://urllib3.readthedocs.io/en/1.26.x/advanced-usage.html#ssl-warnings\n"
     ]
    },
    {
     "name": "stdout",
     "output_type": "stream",
     "text": [
      "Feature Group created successfully, explore it at \n",
      "https://c.app.hopsworks.ai:443/p/47255/fs/46149/fg/51640\n"
     ]
    },
    {
     "data": {
      "application/vnd.jupyter.widget-view+json": {
       "model_id": "118ccfda8559489f8ec1e433d0f8813f",
       "version_major": 2,
       "version_minor": 0
      },
      "text/plain": [
       "Uploading Dataframe: 0.00% |          | Rows 0/265 | Elapsed Time: 00:00 | Remaining Time: ?"
      ]
     },
     "metadata": {},
     "output_type": "display_data"
    },
    {
     "name": "stderr",
     "output_type": "stream",
     "text": [
      "%3|1684919201.698|FAIL|Joaos-MacBook-Pro-2.local#producer-1| [thrd:ssl://c.app.hopsworks.ai:9092/bootstrap]: ssl://c.app.hopsworks.ai:9092/bootstrap: SSL handshake failed: error:1416F086:SSL routines:tls_process_server_certificate:certificate verify failed: broker certificate could not be verified, verify that ssl.ca.location is correctly configured or root CA certificates are installed (brew install openssl) (after 109ms in state SSL_HANDSHAKE)\n",
      "%3|1684919202.677|FAIL|Joaos-MacBook-Pro-2.local#producer-1| [thrd:ssl://3.145.101.110:9092/bootstrap]: ssl://3.145.101.110:9092/bootstrap: SSL handshake failed: error:1416F086:SSL routines:tls_process_server_certificate:certificate verify failed: broker certificate could not be verified, verify that ssl.ca.location is correctly configured or root CA certificates are installed (brew install openssl) (after 97ms in state SSL_HANDSHAKE)\n",
      "%3|1684919203.697|FAIL|Joaos-MacBook-Pro-2.local#producer-1| [thrd:ssl://3.142.251.253:9092/bootstrap]: ssl://3.142.251.253:9092/bootstrap: SSL handshake failed: error:1416F086:SSL routines:tls_process_server_certificate:certificate verify failed: broker certificate could not be verified, verify that ssl.ca.location is correctly configured or root CA certificates are installed (brew install openssl) (after 106ms in state SSL_HANDSHAKE)\n",
      "%3|1684919204.706|FAIL|Joaos-MacBook-Pro-2.local#producer-1| [thrd:ssl://3.142.251.253:9092/bootstrap]: ssl://3.142.251.253:9092/bootstrap: SSL handshake failed: error:1416F086:SSL routines:tls_process_server_certificate:certificate verify failed: broker certificate could not be verified, verify that ssl.ca.location is correctly configured or root CA certificates are installed (brew install openssl) (after 109ms in state SSL_HANDSHAKE, 1 identical error(s) suppressed)\n",
      "%3|1684919206.693|FAIL|Joaos-MacBook-Pro-2.local#producer-1| [thrd:ssl://3.145.101.110:9092/bootstrap]: ssl://3.145.101.110:9092/bootstrap: SSL handshake failed: error:1416F086:SSL routines:tls_process_server_certificate:certificate verify failed: broker certificate could not be verified, verify that ssl.ca.location is correctly configured or root CA certificates are installed (brew install openssl) (after 99ms in state SSL_HANDSHAKE, 1 identical error(s) suppressed)\n",
      "%3|1684919208.695|FAIL|Joaos-MacBook-Pro-2.local#producer-1| [thrd:ssl://c.app.hopsworks.ai:9092/bootstrap]: ssl://c.app.hopsworks.ai:9092/bootstrap: SSL handshake failed: error:1416F086:SSL routines:tls_process_server_certificate:certificate verify failed: broker certificate could not be verified, verify that ssl.ca.location is correctly configured or root CA certificates are installed (brew install openssl) (after 96ms in state SSL_HANDSHAKE, 1 identical error(s) suppressed)\n",
      "%3|1684919236.790|FAIL|Joaos-MacBook-Pro-2.local#producer-1| [thrd:ssl://3.142.251.253:9092/bootstrap]: ssl://3.142.251.253:9092/bootstrap: SSL handshake failed: error:1416F086:SSL routines:tls_process_server_certificate:certificate verify failed: broker certificate could not be verified, verify that ssl.ca.location is correctly configured or root CA certificates are installed (brew install openssl) (after 108ms in state SSL_HANDSHAKE, 12 identical error(s) suppressed)\n",
      "%3|1684919239.771|FAIL|Joaos-MacBook-Pro-2.local#producer-1| [thrd:ssl://3.145.101.110:9092/bootstrap]: ssl://3.145.101.110:9092/bootstrap: SSL handshake failed: error:1416F086:SSL routines:tls_process_server_certificate:certificate verify failed: broker certificate could not be verified, verify that ssl.ca.location is correctly configured or root CA certificates are installed (brew install openssl) (after 96ms in state SSL_HANDSHAKE, 9 identical error(s) suppressed)\n",
      "%3|1684919242.799|FAIL|Joaos-MacBook-Pro-2.local#producer-1| [thrd:ssl://c.app.hopsworks.ai:9092/bootstrap]: ssl://c.app.hopsworks.ai:9092/bootstrap: SSL handshake failed: error:1416F086:SSL routines:tls_process_server_certificate:certificate verify failed: broker certificate could not be verified, verify that ssl.ca.location is correctly configured or root CA certificates are installed (brew install openssl) (after 109ms in state SSL_HANDSHAKE, 12 identical error(s) suppressed)\n",
      "%3|1684919267.871|FAIL|Joaos-MacBook-Pro-2.local#producer-1| [thrd:ssl://3.142.251.253:9092/bootstrap]: ssl://3.142.251.253:9092/bootstrap: SSL handshake failed: error:1416F086:SSL routines:tls_process_server_certificate:certificate verify failed: broker certificate could not be verified, verify that ssl.ca.location is correctly configured or root CA certificates are installed (brew install openssl) (after 108ms in state SSL_HANDSHAKE, 6 identical error(s) suppressed)\n",
      "%3|1684919269.872|FAIL|Joaos-MacBook-Pro-2.local#producer-1| [thrd:ssl://3.145.101.110:9092/bootstrap]: ssl://3.145.101.110:9092/bootstrap: SSL handshake failed: error:1416F086:SSL routines:tls_process_server_certificate:certificate verify failed: broker certificate could not be verified, verify that ssl.ca.location is correctly configured or root CA certificates are installed (brew install openssl) (after 109ms in state SSL_HANDSHAKE, 15 identical error(s) suppressed)\n",
      "%3|1684919275.894|FAIL|Joaos-MacBook-Pro-2.local#producer-1| [thrd:ssl://c.app.hopsworks.ai:9092/bootstrap]: ssl://c.app.hopsworks.ai:9092/bootstrap: SSL handshake failed: error:1416F086:SSL routines:tls_process_server_certificate:certificate verify failed: broker certificate could not be verified, verify that ssl.ca.location is correctly configured or root CA certificates are installed (brew install openssl) (after 113ms in state SSL_HANDSHAKE, 10 identical error(s) suppressed)\n",
      "%3|1684919299.918|FAIL|Joaos-MacBook-Pro-2.local#producer-1| [thrd:ssl://3.142.251.253:9092/bootstrap]: ssl://3.142.251.253:9092/bootstrap: SSL handshake failed: error:1416F086:SSL routines:tls_process_server_certificate:certificate verify failed: broker certificate could not be verified, verify that ssl.ca.location is correctly configured or root CA certificates are installed (brew install openssl) (after 100ms in state SSL_HANDSHAKE, 11 identical error(s) suppressed)\n",
      "%3|1684919300.915|FAIL|Joaos-MacBook-Pro-2.local#producer-1| [thrd:ssl://3.145.101.110:9092/bootstrap]: ssl://3.145.101.110:9092/bootstrap: SSL handshake failed: error:1416F086:SSL routines:tls_process_server_certificate:certificate verify failed: broker certificate could not be verified, verify that ssl.ca.location is correctly configured or root CA certificates are installed (brew install openssl) (after 96ms in state SSL_HANDSHAKE, 14 identical error(s) suppressed)\n",
      "%3|1684919312.983|FAIL|Joaos-MacBook-Pro-2.local#producer-1| [thrd:ssl://c.app.hopsworks.ai:9092/bootstrap]: ssl://c.app.hopsworks.ai:9092/bootstrap: SSL handshake failed: error:1416F086:SSL routines:tls_process_server_certificate:certificate verify failed: broker certificate could not be verified, verify that ssl.ca.location is correctly configured or root CA certificates are installed (brew install openssl) (after 109ms in state SSL_HANDSHAKE, 10 identical error(s) suppressed)\n",
      "%3|1684919332.044|FAIL|Joaos-MacBook-Pro-2.local#producer-1| [thrd:ssl://3.145.101.110:9092/bootstrap]: ssl://3.145.101.110:9092/bootstrap: SSL handshake failed: error:1416F086:SSL routines:tls_process_server_certificate:certificate verify failed: broker certificate could not be verified, verify that ssl.ca.location is correctly configured or root CA certificates are installed (brew install openssl) (after 111ms in state SSL_HANDSHAKE, 9 identical error(s) suppressed)\n",
      "%3|1684919335.031|FAIL|Joaos-MacBook-Pro-2.local#producer-1| [thrd:ssl://3.142.251.253:9092/bootstrap]: ssl://3.142.251.253:9092/bootstrap: SSL handshake failed: error:1416F086:SSL routines:tls_process_server_certificate:certificate verify failed: broker certificate could not be verified, verify that ssl.ca.location is correctly configured or root CA certificates are installed (brew install openssl) (after 97ms in state SSL_HANDSHAKE, 9 identical error(s) suppressed)\n",
      "%3|1684919345.087|FAIL|Joaos-MacBook-Pro-2.local#producer-1| [thrd:ssl://c.app.hopsworks.ai:9092/bootstrap]: ssl://c.app.hopsworks.ai:9092/bootstrap: SSL handshake failed: error:1416F086:SSL routines:tls_process_server_certificate:certificate verify failed: broker certificate could not be verified, verify that ssl.ca.location is correctly configured or root CA certificates are installed (brew install openssl) (after 112ms in state SSL_HANDSHAKE, 13 identical error(s) suppressed)\n",
      "%3|1684919365.142|FAIL|Joaos-MacBook-Pro-2.local#producer-1| [thrd:ssl://3.142.251.253:9092/bootstrap]: ssl://3.142.251.253:9092/bootstrap: SSL handshake failed: error:1416F086:SSL routines:tls_process_server_certificate:certificate verify failed: broker certificate could not be verified, verify that ssl.ca.location is correctly configured or root CA certificates are installed (brew install openssl) (after 107ms in state SSL_HANDSHAKE, 13 identical error(s) suppressed)\n",
      "%3|1684919370.140|FAIL|Joaos-MacBook-Pro-2.local#producer-1| [thrd:ssl://3.145.101.110:9092/bootstrap]: ssl://3.145.101.110:9092/bootstrap: SSL handshake failed: error:1416F086:SSL routines:tls_process_server_certificate:certificate verify failed: broker certificate could not be verified, verify that ssl.ca.location is correctly configured or root CA certificates are installed (brew install openssl) (after 102ms in state SSL_HANDSHAKE, 10 identical error(s) suppressed)\n",
      "%3|1684919381.187|FAIL|Joaos-MacBook-Pro-2.local#producer-1| [thrd:ssl://c.app.hopsworks.ai:9092/bootstrap]: ssl://c.app.hopsworks.ai:9092/bootstrap: SSL handshake failed: error:1416F086:SSL routines:tls_process_server_certificate:certificate verify failed: broker certificate could not be verified, verify that ssl.ca.location is correctly configured or root CA certificates are installed (brew install openssl) (after 110ms in state SSL_HANDSHAKE, 10 identical error(s) suppressed)\n",
      "%3|1684919400.236|FAIL|Joaos-MacBook-Pro-2.local#producer-1| [thrd:ssl://3.142.251.253:9092/bootstrap]: ssl://3.142.251.253:9092/bootstrap: SSL handshake failed: error:1416F086:SSL routines:tls_process_server_certificate:certificate verify failed: broker certificate could not be verified, verify that ssl.ca.location is correctly configured or root CA certificates are installed (brew install openssl) (after 109ms in state SSL_HANDSHAKE, 11 identical error(s) suppressed)\n",
      "%3|1684919403.250|FAIL|Joaos-MacBook-Pro-2.local#producer-1| [thrd:ssl://3.145.101.110:9092/bootstrap]: ssl://3.145.101.110:9092/bootstrap: SSL handshake failed: error:1416F086:SSL routines:tls_process_server_certificate:certificate verify failed: broker certificate could not be verified, verify that ssl.ca.location is correctly configured or root CA certificates are installed (brew install openssl) (after 113ms in state SSL_HANDSHAKE, 15 identical error(s) suppressed)\n",
      "%3|1684919412.275|FAIL|Joaos-MacBook-Pro-2.local#producer-1| [thrd:ssl://c.app.hopsworks.ai:9092/bootstrap]: ssl://c.app.hopsworks.ai:9092/bootstrap: SSL handshake failed: error:1416F086:SSL routines:tls_process_server_certificate:certificate verify failed: broker certificate could not be verified, verify that ssl.ca.location is correctly configured or root CA certificates are installed (brew install openssl) (after 108ms in state SSL_HANDSHAKE, 11 identical error(s) suppressed)\n",
      "%3|1684919431.312|FAIL|Joaos-MacBook-Pro-2.local#producer-1| [thrd:ssl://3.142.251.253:9092/bootstrap]: ssl://3.142.251.253:9092/bootstrap: SSL handshake failed: error:1416F086:SSL routines:tls_process_server_certificate:certificate verify failed: broker certificate could not be verified, verify that ssl.ca.location is correctly configured or root CA certificates are installed (brew install openssl) (after 100ms in state SSL_HANDSHAKE, 9 identical error(s) suppressed)\n",
      "%3|1684919434.344|FAIL|Joaos-MacBook-Pro-2.local#producer-1| [thrd:ssl://3.145.101.110:9092/bootstrap]: ssl://3.145.101.110:9092/bootstrap: SSL handshake failed: error:1416F086:SSL routines:tls_process_server_certificate:certificate verify failed: broker certificate could not be verified, verify that ssl.ca.location is correctly configured or root CA certificates are installed (brew install openssl) (after 109ms in state SSL_HANDSHAKE, 9 identical error(s) suppressed)\n",
      "%3|1684919449.398|FAIL|Joaos-MacBook-Pro-2.local#producer-1| [thrd:ssl://c.app.hopsworks.ai:9092/bootstrap]: ssl://c.app.hopsworks.ai:9092/bootstrap: SSL handshake failed: error:1416F086:SSL routines:tls_process_server_certificate:certificate verify failed: broker certificate could not be verified, verify that ssl.ca.location is correctly configured or root CA certificates are installed (brew install openssl) (after 109ms in state SSL_HANDSHAKE, 11 identical error(s) suppressed)\n",
      "%3|1684919464.452|FAIL|Joaos-MacBook-Pro-2.local#producer-1| [thrd:ssl://3.142.251.253:9092/bootstrap]: ssl://3.142.251.253:9092/bootstrap: SSL handshake failed: error:1416F086:SSL routines:tls_process_server_certificate:certificate verify failed: broker certificate could not be verified, verify that ssl.ca.location is correctly configured or root CA certificates are installed (brew install openssl) (after 109ms in state SSL_HANDSHAKE, 13 identical error(s) suppressed)\n",
      "%3|1684919471.451|FAIL|Joaos-MacBook-Pro-2.local#producer-1| [thrd:ssl://3.145.101.110:9092/bootstrap]: ssl://3.145.101.110:9092/bootstrap: SSL handshake failed: error:1416F086:SSL routines:tls_process_server_certificate:certificate verify failed: broker certificate could not be verified, verify that ssl.ca.location is correctly configured or root CA certificates are installed (brew install openssl) (after 98ms in state SSL_HANDSHAKE, 8 identical error(s) suppressed)\n",
      "%3|1684919480.509|FAIL|Joaos-MacBook-Pro-2.local#producer-1| [thrd:ssl://c.app.hopsworks.ai:9092/bootstrap]: ssl://c.app.hopsworks.ai:9092/bootstrap: SSL handshake failed: error:1416F086:SSL routines:tls_process_server_certificate:certificate verify failed: broker certificate could not be verified, verify that ssl.ca.location is correctly configured or root CA certificates are installed (brew install openssl) (after 109ms in state SSL_HANDSHAKE, 10 identical error(s) suppressed)\n",
      "%3|1684919494.547|FAIL|Joaos-MacBook-Pro-2.local#producer-1| [thrd:ssl://3.142.251.253:9092/bootstrap]: ssl://3.142.251.253:9092/bootstrap: SSL handshake failed: error:1416F086:SSL routines:tls_process_server_certificate:certificate verify failed: broker certificate could not be verified, verify that ssl.ca.location is correctly configured or root CA certificates are installed (brew install openssl) (after 111ms in state SSL_HANDSHAKE, 18 identical error(s) suppressed)\n",
      "%3|1684919501.557|FAIL|Joaos-MacBook-Pro-2.local#producer-1| [thrd:ssl://3.145.101.110:9092/bootstrap]: ssl://3.145.101.110:9092/bootstrap: SSL handshake failed: error:1416F086:SSL routines:tls_process_server_certificate:certificate verify failed: broker certificate could not be verified, verify that ssl.ca.location is correctly configured or root CA certificates are installed (brew install openssl) (after 103ms in state SSL_HANDSHAKE, 9 identical error(s) suppressed)\n"
     ]
    },
    {
     "ename": "KeyboardInterrupt",
     "evalue": "",
     "output_type": "error",
     "traceback": [
      "\u001b[0;31m---------------------------------------------------------------------------\u001b[0m",
      "\u001b[0;31mKeyboardInterrupt\u001b[0m                         Traceback (most recent call last)",
      "Cell \u001b[0;32mIn[12], line 1\u001b[0m\n\u001b[0;32m----> 1\u001b[0m feature_group\u001b[39m.\u001b[39;49minsert(predictions, write_options\u001b[39m=\u001b[39;49m{\u001b[39m\"\u001b[39;49m\u001b[39mwait_for_job\u001b[39;49m\u001b[39m\"\u001b[39;49m: \u001b[39mFalse\u001b[39;49;00m})\n",
      "File \u001b[0;32m~/Desktop/github-projects/taxi_demand_predictor/.venv/lib/python3.10/site-packages/hsfs/feature_group.py:1075\u001b[0m, in \u001b[0;36mFeatureGroup.insert\u001b[0;34m(self, features, overwrite, operation, storage, write_options, validation_options)\u001b[0m\n\u001b[1;32m   1015\u001b[0m \u001b[39m\u001b[39m\u001b[39m\"\"\"Persist the metadata and materialize the feature group to the feature store\u001b[39;00m\n\u001b[1;32m   1016\u001b[0m \u001b[39mor insert data from a dataframe into the existing feature group.\u001b[39;00m\n\u001b[1;32m   1017\u001b[0m \n\u001b[0;32m   (...)\u001b[0m\n\u001b[1;32m   1071\u001b[0m \u001b[39m    `FeatureGroup`. Updated feature group metadata object.\u001b[39;00m\n\u001b[1;32m   1072\u001b[0m \u001b[39m\"\"\"\u001b[39;00m\n\u001b[1;32m   1073\u001b[0m feature_dataframe \u001b[39m=\u001b[39m engine\u001b[39m.\u001b[39mget_instance()\u001b[39m.\u001b[39mconvert_to_default_dataframe(features)\n\u001b[0;32m-> 1075\u001b[0m job, ge_report \u001b[39m=\u001b[39m \u001b[39mself\u001b[39;49m\u001b[39m.\u001b[39;49m_feature_group_engine\u001b[39m.\u001b[39;49minsert(\n\u001b[1;32m   1076\u001b[0m     \u001b[39mself\u001b[39;49m,\n\u001b[1;32m   1077\u001b[0m     feature_dataframe,\n\u001b[1;32m   1078\u001b[0m     overwrite,\n\u001b[1;32m   1079\u001b[0m     operation,\n\u001b[1;32m   1080\u001b[0m     storage\u001b[39m.\u001b[39;49mlower() \u001b[39mif\u001b[39;49;00m storage \u001b[39mis\u001b[39;49;00m \u001b[39mnot\u001b[39;49;00m \u001b[39mNone\u001b[39;49;00m \u001b[39melse\u001b[39;49;00m \u001b[39mNone\u001b[39;49;00m,\n\u001b[1;32m   1081\u001b[0m     write_options,\n\u001b[1;32m   1082\u001b[0m     validation_options,\n\u001b[1;32m   1083\u001b[0m )\n\u001b[1;32m   1085\u001b[0m \u001b[39mif\u001b[39;00m ge_report \u001b[39mis\u001b[39;00m \u001b[39mNone\u001b[39;00m \u001b[39mor\u001b[39;00m ge_report\u001b[39m.\u001b[39mingestion_result \u001b[39m==\u001b[39m \u001b[39m\"\u001b[39m\u001b[39mINGESTED\u001b[39m\u001b[39m\"\u001b[39m:\n\u001b[1;32m   1086\u001b[0m     \u001b[39mself\u001b[39m\u001b[39m.\u001b[39m_code_engine\u001b[39m.\u001b[39msave_code(\u001b[39mself\u001b[39m)\n",
      "File \u001b[0;32m~/Desktop/github-projects/taxi_demand_predictor/.venv/lib/python3.10/site-packages/hsfs/core/feature_group_engine.py:113\u001b[0m, in \u001b[0;36mFeatureGroupEngine.insert\u001b[0;34m(self, feature_group, feature_dataframe, overwrite, operation, storage, write_options, validation_options)\u001b[0m\n\u001b[1;32m    109\u001b[0m \u001b[39mif\u001b[39;00m overwrite:\n\u001b[1;32m    110\u001b[0m     \u001b[39mself\u001b[39m\u001b[39m.\u001b[39m_feature_group_api\u001b[39m.\u001b[39mdelete_content(feature_group)\n\u001b[1;32m    112\u001b[0m \u001b[39mreturn\u001b[39;00m (\n\u001b[0;32m--> 113\u001b[0m     engine\u001b[39m.\u001b[39;49mget_instance()\u001b[39m.\u001b[39;49msave_dataframe(\n\u001b[1;32m    114\u001b[0m         feature_group,\n\u001b[1;32m    115\u001b[0m         feature_dataframe,\n\u001b[1;32m    116\u001b[0m         \u001b[39m\"\u001b[39;49m\u001b[39mbulk_insert\u001b[39;49m\u001b[39m\"\u001b[39;49m \u001b[39mif\u001b[39;49;00m overwrite \u001b[39melse\u001b[39;49;00m operation,\n\u001b[1;32m    117\u001b[0m         feature_group\u001b[39m.\u001b[39;49monline_enabled,\n\u001b[1;32m    118\u001b[0m         storage,\n\u001b[1;32m    119\u001b[0m         offline_write_options,\n\u001b[1;32m    120\u001b[0m         online_write_options,\n\u001b[1;32m    121\u001b[0m     ),\n\u001b[1;32m    122\u001b[0m     ge_report,\n\u001b[1;32m    123\u001b[0m )\n",
      "File \u001b[0;32m~/Desktop/github-projects/taxi_demand_predictor/.venv/lib/python3.10/site-packages/hsfs/engine/python.py:455\u001b[0m, in \u001b[0;36mEngine.save_dataframe\u001b[0;34m(self, feature_group, dataframe, operation, online_enabled, storage, offline_write_options, online_write_options, validation_id)\u001b[0m\n\u001b[1;32m    443\u001b[0m \u001b[39mdef\u001b[39;00m \u001b[39msave_dataframe\u001b[39m(\n\u001b[1;32m    444\u001b[0m     \u001b[39mself\u001b[39m,\n\u001b[1;32m    445\u001b[0m     feature_group: FeatureGroup,\n\u001b[0;32m   (...)\u001b[0m\n\u001b[1;32m    452\u001b[0m     validation_id: \u001b[39mint\u001b[39m \u001b[39m=\u001b[39m \u001b[39mNone\u001b[39;00m,\n\u001b[1;32m    453\u001b[0m ):\n\u001b[1;32m    454\u001b[0m     \u001b[39mif\u001b[39;00m feature_group\u001b[39m.\u001b[39mstream:\n\u001b[0;32m--> 455\u001b[0m         \u001b[39mreturn\u001b[39;00m \u001b[39mself\u001b[39;49m\u001b[39m.\u001b[39;49m_write_dataframe_kafka(\n\u001b[1;32m    456\u001b[0m             feature_group, dataframe, offline_write_options\n\u001b[1;32m    457\u001b[0m         )\n\u001b[1;32m    458\u001b[0m     \u001b[39melse\u001b[39;00m:\n\u001b[1;32m    459\u001b[0m         \u001b[39m# for backwards compatibility\u001b[39;00m\n\u001b[1;32m    460\u001b[0m         \u001b[39mreturn\u001b[39;00m \u001b[39mself\u001b[39m\u001b[39m.\u001b[39mlegacy_save_dataframe(\n\u001b[1;32m    461\u001b[0m             feature_group,\n\u001b[1;32m    462\u001b[0m             dataframe,\n\u001b[0;32m   (...)\u001b[0m\n\u001b[1;32m    468\u001b[0m             validation_id,\n\u001b[1;32m    469\u001b[0m         )\n",
      "File \u001b[0;32m~/Desktop/github-projects/taxi_demand_predictor/.venv/lib/python3.10/site-packages/hsfs/engine/python.py:881\u001b[0m, in \u001b[0;36mEngine._write_dataframe_kafka\u001b[0;34m(self, feature_group, dataframe, offline_write_options)\u001b[0m\n\u001b[1;32m    878\u001b[0m             producer\u001b[39m.\u001b[39mpoll(\u001b[39m1\u001b[39m)\n\u001b[1;32m    880\u001b[0m \u001b[39m# make sure producer blocks and everything is delivered\u001b[39;00m\n\u001b[0;32m--> 881\u001b[0m producer\u001b[39m.\u001b[39;49mflush()\n\u001b[1;32m    882\u001b[0m progress_bar\u001b[39m.\u001b[39mclose()\n\u001b[1;32m    884\u001b[0m \u001b[39m# start backfilling job\u001b[39;00m\n",
      "File \u001b[0;32m~/Desktop/github-projects/taxi_demand_predictor/.venv/lib/python3.10/site-packages/hsfs/engine/python.py:815\u001b[0m, in \u001b[0;36mEngine._write_dataframe_kafka.<locals>.acked\u001b[0;34m(err, msg)\u001b[0m\n\u001b[1;32m    812\u001b[0m \u001b[39m# setup row writer function\u001b[39;00m\n\u001b[1;32m    813\u001b[0m writer \u001b[39m=\u001b[39m \u001b[39mself\u001b[39m\u001b[39m.\u001b[39m_get_encoder_func(feature_group\u001b[39m.\u001b[39m_get_encoded_avro_schema())\n\u001b[0;32m--> 815\u001b[0m \u001b[39mdef\u001b[39;00m \u001b[39macked\u001b[39m(err, msg):\n\u001b[1;32m    816\u001b[0m     \u001b[39mif\u001b[39;00m err \u001b[39mis\u001b[39;00m \u001b[39mnot\u001b[39;00m \u001b[39mNone\u001b[39;00m \u001b[39mand\u001b[39;00m offline_write_options\u001b[39m.\u001b[39mget(\u001b[39m\"\u001b[39m\u001b[39mdebug_kafka\u001b[39m\u001b[39m\"\u001b[39m, \u001b[39mFalse\u001b[39;00m):\n\u001b[1;32m    817\u001b[0m         \u001b[39mprint\u001b[39m(\u001b[39m\"\u001b[39m\u001b[39mFailed to deliver message: \u001b[39m\u001b[39m%s\u001b[39;00m\u001b[39m: \u001b[39m\u001b[39m%s\u001b[39;00m\u001b[39m\"\u001b[39m \u001b[39m%\u001b[39m (\u001b[39mstr\u001b[39m(msg), \u001b[39mstr\u001b[39m(err)))\n",
      "\u001b[0;31mKeyboardInterrupt\u001b[0m: "
     ]
    },
    {
     "name": "stderr",
     "output_type": "stream",
     "text": [
      "%3|1684919510.602|FAIL|Joaos-MacBook-Pro-2.local#producer-1| [thrd:ssl://c.app.hopsworks.ai:9092/bootstrap]: ssl://c.app.hopsworks.ai:9092/bootstrap: SSL handshake failed: error:1416F086:SSL routines:tls_process_server_certificate:certificate verify failed: broker certificate could not be verified, verify that ssl.ca.location is correctly configured or root CA certificates are installed (brew install openssl) (after 111ms in state SSL_HANDSHAKE, 10 identical error(s) suppressed)\n",
      "%3|1684919524.618|FAIL|Joaos-MacBook-Pro-2.local#producer-1| [thrd:ssl://3.142.251.253:9092/bootstrap]: ssl://3.142.251.253:9092/bootstrap: SSL handshake failed: error:1416F086:SSL routines:tls_process_server_certificate:certificate verify failed: broker certificate could not be verified, verify that ssl.ca.location is correctly configured or root CA certificates are installed (brew install openssl) (after 98ms in state SSL_HANDSHAKE, 8 identical error(s) suppressed)\n",
      "%3|1684919531.649|FAIL|Joaos-MacBook-Pro-2.local#producer-1| [thrd:ssl://3.145.101.110:9092/bootstrap]: ssl://3.145.101.110:9092/bootstrap: SSL handshake failed: error:1416F086:SSL routines:tls_process_server_certificate:certificate verify failed: broker certificate could not be verified, verify that ssl.ca.location is correctly configured or root CA certificates are installed (brew install openssl) (after 109ms in state SSL_HANDSHAKE, 13 identical error(s) suppressed)\n"
     ]
    }
   ],
   "source": [
    "feature_group.insert(predictions, write_options={\"wait_for_job\": False})"
   ]
  },
  {
   "cell_type": "code",
   "execution_count": null,
   "metadata": {},
   "outputs": [],
   "source": []
  }
 ],
 "metadata": {
  "kernelspec": {
   "display_name": ".venv",
   "language": "python",
   "name": "python3"
  },
  "language_info": {
   "codemirror_mode": {
    "name": "ipython",
    "version": 3
   },
   "file_extension": ".py",
   "mimetype": "text/x-python",
   "name": "python",
   "nbconvert_exporter": "python",
   "pygments_lexer": "ipython3",
   "version": "3.10.11"
  },
  "orig_nbformat": 4
 },
 "nbformat": 4,
 "nbformat_minor": 2
}
