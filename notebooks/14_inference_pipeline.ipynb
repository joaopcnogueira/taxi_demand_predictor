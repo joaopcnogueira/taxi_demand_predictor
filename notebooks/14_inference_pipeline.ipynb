{
 "cells": [
  {
   "cell_type": "code",
   "execution_count": 1,
   "metadata": {},
   "outputs": [],
   "source": [
    "%load_ext autoreload\n",
    "%autoreload 2"
   ]
  },
  {
   "cell_type": "code",
   "execution_count": 2,
   "metadata": {},
   "outputs": [
    {
     "name": "stdout",
     "output_type": "stream",
     "text": [
      "current_date=2023-05-24 11:00:00\n"
     ]
    }
   ],
   "source": [
    "from datetime import datetime, timedelta\n",
    "import pandas as pd\n",
    "\n",
    "current_date = pd.to_datetime(datetime.utcnow()).floor('H')\n",
    "print(f'current_date={current_date}')"
   ]
  },
  {
   "cell_type": "code",
   "execution_count": 3,
   "metadata": {},
   "outputs": [
    {
     "name": "stdout",
     "output_type": "stream",
     "text": [
      "Connected. Call `.close()` to terminate connection gracefully.\n",
      "\n",
      "Logged in to project, explore it here https://c.app.hopsworks.ai:443/p/47255\n",
      "Connected. Call `.close()` to terminate connection gracefully.\n",
      "Fetching data from 2023-04-26 11:00:00 to 2023-05-24 10:00:00\n"
     ]
    },
    {
     "name": "stderr",
     "output_type": "stream",
     "text": [
      "VersionWarning: No training dataset version was provided to initialise batch scoring . Defaulting to version 1.\n"
     ]
    },
    {
     "name": "stdout",
     "output_type": "stream",
     "text": [
      "2023-05-24 08:51:16,631 INFO: USE `taxi_demand_ytjqdg_featurestore`\n",
      "2023-05-24 08:51:17,286 INFO: SELECT `fg0`.`pickup_hour` `pickup_hour`, `fg0`.`rides` `rides`, `fg0`.`pickup_location_id` `pickup_location_id`\n",
      "FROM `taxi_demand_ytjqdg_featurestore`.`time_series_hourly_feature_group_1` `fg0`\n",
      "WHERE `fg0`.`pickup_hour` >= TIMESTAMP '2023-04-25 11:00:00.000' AND `fg0`.`pickup_hour` <= TIMESTAMP '2023-05-25 10:00:00.000'\n"
     ]
    },
    {
     "name": "stderr",
     "output_type": "stream",
     "text": [
      "UserWarning: pandas only supports SQLAlchemy connectable (engine/connection) or database string URI or sqlite3 DBAPI2 connection. Other DBAPI2 objects are not tested. Please consider using SQLAlchemy.\n"
     ]
    }
   ],
   "source": [
    "from src.inference import load_batch_of_features_from_store\n",
    "\n",
    "features = load_batch_of_features_from_store(current_date)"
   ]
  },
  {
   "cell_type": "code",
   "execution_count": 4,
   "metadata": {},
   "outputs": [
    {
     "data": {
      "text/html": [
       "<div>\n",
       "<style scoped>\n",
       "    .dataframe tbody tr th:only-of-type {\n",
       "        vertical-align: middle;\n",
       "    }\n",
       "\n",
       "    .dataframe tbody tr th {\n",
       "        vertical-align: top;\n",
       "    }\n",
       "\n",
       "    .dataframe thead th {\n",
       "        text-align: right;\n",
       "    }\n",
       "</style>\n",
       "<table border=\"1\" class=\"dataframe\">\n",
       "  <thead>\n",
       "    <tr style=\"text-align: right;\">\n",
       "      <th></th>\n",
       "      <th>rides_previous_672_hour</th>\n",
       "      <th>rides_previous_671_hour</th>\n",
       "      <th>rides_previous_670_hour</th>\n",
       "      <th>rides_previous_669_hour</th>\n",
       "      <th>rides_previous_668_hour</th>\n",
       "      <th>rides_previous_667_hour</th>\n",
       "      <th>rides_previous_666_hour</th>\n",
       "      <th>rides_previous_665_hour</th>\n",
       "      <th>rides_previous_664_hour</th>\n",
       "      <th>rides_previous_663_hour</th>\n",
       "      <th>...</th>\n",
       "      <th>rides_previous_8_hour</th>\n",
       "      <th>rides_previous_7_hour</th>\n",
       "      <th>rides_previous_6_hour</th>\n",
       "      <th>rides_previous_5_hour</th>\n",
       "      <th>rides_previous_4_hour</th>\n",
       "      <th>rides_previous_3_hour</th>\n",
       "      <th>rides_previous_2_hour</th>\n",
       "      <th>rides_previous_1_hour</th>\n",
       "      <th>pickup_hour</th>\n",
       "      <th>pickup_location_id</th>\n",
       "    </tr>\n",
       "  </thead>\n",
       "  <tbody>\n",
       "    <tr>\n",
       "      <th>165</th>\n",
       "      <td>1.0</td>\n",
       "      <td>0.0</td>\n",
       "      <td>0.0</td>\n",
       "      <td>2.0</td>\n",
       "      <td>8.0</td>\n",
       "      <td>1.0</td>\n",
       "      <td>0.0</td>\n",
       "      <td>1.0</td>\n",
       "      <td>2.0</td>\n",
       "      <td>0.0</td>\n",
       "      <td>...</td>\n",
       "      <td>0.0</td>\n",
       "      <td>0.0</td>\n",
       "      <td>0.0</td>\n",
       "      <td>0.0</td>\n",
       "      <td>2.0</td>\n",
       "      <td>2.0</td>\n",
       "      <td>1.0</td>\n",
       "      <td>0.0</td>\n",
       "      <td>2023-05-24 11:00:00</td>\n",
       "      <td>1</td>\n",
       "    </tr>\n",
       "    <tr>\n",
       "      <th>250</th>\n",
       "      <td>0.0</td>\n",
       "      <td>0.0</td>\n",
       "      <td>0.0</td>\n",
       "      <td>0.0</td>\n",
       "      <td>0.0</td>\n",
       "      <td>0.0</td>\n",
       "      <td>0.0</td>\n",
       "      <td>0.0</td>\n",
       "      <td>0.0</td>\n",
       "      <td>0.0</td>\n",
       "      <td>...</td>\n",
       "      <td>0.0</td>\n",
       "      <td>0.0</td>\n",
       "      <td>0.0</td>\n",
       "      <td>0.0</td>\n",
       "      <td>0.0</td>\n",
       "      <td>0.0</td>\n",
       "      <td>0.0</td>\n",
       "      <td>0.0</td>\n",
       "      <td>2023-05-24 11:00:00</td>\n",
       "      <td>2</td>\n",
       "    </tr>\n",
       "    <tr>\n",
       "      <th>53</th>\n",
       "      <td>0.0</td>\n",
       "      <td>0.0</td>\n",
       "      <td>1.0</td>\n",
       "      <td>0.0</td>\n",
       "      <td>0.0</td>\n",
       "      <td>0.0</td>\n",
       "      <td>0.0</td>\n",
       "      <td>0.0</td>\n",
       "      <td>0.0</td>\n",
       "      <td>0.0</td>\n",
       "      <td>...</td>\n",
       "      <td>0.0</td>\n",
       "      <td>0.0</td>\n",
       "      <td>0.0</td>\n",
       "      <td>0.0</td>\n",
       "      <td>0.0</td>\n",
       "      <td>0.0</td>\n",
       "      <td>0.0</td>\n",
       "      <td>0.0</td>\n",
       "      <td>2023-05-24 11:00:00</td>\n",
       "      <td>3</td>\n",
       "    </tr>\n",
       "    <tr>\n",
       "      <th>69</th>\n",
       "      <td>2.0</td>\n",
       "      <td>1.0</td>\n",
       "      <td>3.0</td>\n",
       "      <td>8.0</td>\n",
       "      <td>2.0</td>\n",
       "      <td>3.0</td>\n",
       "      <td>5.0</td>\n",
       "      <td>8.0</td>\n",
       "      <td>5.0</td>\n",
       "      <td>6.0</td>\n",
       "      <td>...</td>\n",
       "      <td>1.0</td>\n",
       "      <td>1.0</td>\n",
       "      <td>0.0</td>\n",
       "      <td>1.0</td>\n",
       "      <td>9.0</td>\n",
       "      <td>7.0</td>\n",
       "      <td>6.0</td>\n",
       "      <td>4.0</td>\n",
       "      <td>2023-05-24 11:00:00</td>\n",
       "      <td>4</td>\n",
       "    </tr>\n",
       "    <tr>\n",
       "      <th>67</th>\n",
       "      <td>0.0</td>\n",
       "      <td>1.0</td>\n",
       "      <td>0.0</td>\n",
       "      <td>0.0</td>\n",
       "      <td>0.0</td>\n",
       "      <td>1.0</td>\n",
       "      <td>0.0</td>\n",
       "      <td>0.0</td>\n",
       "      <td>0.0</td>\n",
       "      <td>0.0</td>\n",
       "      <td>...</td>\n",
       "      <td>0.0</td>\n",
       "      <td>0.0</td>\n",
       "      <td>0.0</td>\n",
       "      <td>0.0</td>\n",
       "      <td>0.0</td>\n",
       "      <td>0.0</td>\n",
       "      <td>1.0</td>\n",
       "      <td>0.0</td>\n",
       "      <td>2023-05-24 11:00:00</td>\n",
       "      <td>5</td>\n",
       "    </tr>\n",
       "  </tbody>\n",
       "</table>\n",
       "<p>5 rows × 674 columns</p>\n",
       "</div>"
      ],
      "text/plain": [
       "     rides_previous_672_hour  rides_previous_671_hour  \\\n",
       "165                      1.0                      0.0   \n",
       "250                      0.0                      0.0   \n",
       "53                       0.0                      0.0   \n",
       "69                       2.0                      1.0   \n",
       "67                       0.0                      1.0   \n",
       "\n",
       "     rides_previous_670_hour  rides_previous_669_hour  \\\n",
       "165                      0.0                      2.0   \n",
       "250                      0.0                      0.0   \n",
       "53                       1.0                      0.0   \n",
       "69                       3.0                      8.0   \n",
       "67                       0.0                      0.0   \n",
       "\n",
       "     rides_previous_668_hour  rides_previous_667_hour  \\\n",
       "165                      8.0                      1.0   \n",
       "250                      0.0                      0.0   \n",
       "53                       0.0                      0.0   \n",
       "69                       2.0                      3.0   \n",
       "67                       0.0                      1.0   \n",
       "\n",
       "     rides_previous_666_hour  rides_previous_665_hour  \\\n",
       "165                      0.0                      1.0   \n",
       "250                      0.0                      0.0   \n",
       "53                       0.0                      0.0   \n",
       "69                       5.0                      8.0   \n",
       "67                       0.0                      0.0   \n",
       "\n",
       "     rides_previous_664_hour  rides_previous_663_hour  ...  \\\n",
       "165                      2.0                      0.0  ...   \n",
       "250                      0.0                      0.0  ...   \n",
       "53                       0.0                      0.0  ...   \n",
       "69                       5.0                      6.0  ...   \n",
       "67                       0.0                      0.0  ...   \n",
       "\n",
       "     rides_previous_8_hour  rides_previous_7_hour  rides_previous_6_hour  \\\n",
       "165                    0.0                    0.0                    0.0   \n",
       "250                    0.0                    0.0                    0.0   \n",
       "53                     0.0                    0.0                    0.0   \n",
       "69                     1.0                    1.0                    0.0   \n",
       "67                     0.0                    0.0                    0.0   \n",
       "\n",
       "     rides_previous_5_hour  rides_previous_4_hour  rides_previous_3_hour  \\\n",
       "165                    0.0                    2.0                    2.0   \n",
       "250                    0.0                    0.0                    0.0   \n",
       "53                     0.0                    0.0                    0.0   \n",
       "69                     1.0                    9.0                    7.0   \n",
       "67                     0.0                    0.0                    0.0   \n",
       "\n",
       "     rides_previous_2_hour  rides_previous_1_hour         pickup_hour  \\\n",
       "165                    1.0                    0.0 2023-05-24 11:00:00   \n",
       "250                    0.0                    0.0 2023-05-24 11:00:00   \n",
       "53                     0.0                    0.0 2023-05-24 11:00:00   \n",
       "69                     6.0                    4.0 2023-05-24 11:00:00   \n",
       "67                     1.0                    0.0 2023-05-24 11:00:00   \n",
       "\n",
       "     pickup_location_id  \n",
       "165                   1  \n",
       "250                   2  \n",
       "53                    3  \n",
       "69                    4  \n",
       "67                    5  \n",
       "\n",
       "[5 rows x 674 columns]"
      ]
     },
     "execution_count": 4,
     "metadata": {},
     "output_type": "execute_result"
    }
   ],
   "source": [
    "features.head()"
   ]
  },
  {
   "cell_type": "code",
   "execution_count": 5,
   "metadata": {},
   "outputs": [
    {
     "name": "stdout",
     "output_type": "stream",
     "text": [
      "Connection closed.\n",
      "Connected. Call `.close()` to terminate connection gracefully.\n",
      "\n",
      "Logged in to project, explore it here https://c.app.hopsworks.ai:443/p/47255\n",
      "Connected. Call `.close()` to terminate connection gracefully.\n",
      "Downloading file ... "
     ]
    }
   ],
   "source": [
    "from src.inference import load_model_from_registry, get_model_predictions\n",
    "\n",
    "model = load_model_from_registry()\n",
    "predictions = get_model_predictions(model, features)"
   ]
  },
  {
   "cell_type": "code",
   "execution_count": 6,
   "metadata": {},
   "outputs": [
    {
     "data": {
      "text/html": [
       "<div>\n",
       "<style scoped>\n",
       "    .dataframe tbody tr th:only-of-type {\n",
       "        vertical-align: middle;\n",
       "    }\n",
       "\n",
       "    .dataframe tbody tr th {\n",
       "        vertical-align: top;\n",
       "    }\n",
       "\n",
       "    .dataframe thead th {\n",
       "        text-align: right;\n",
       "    }\n",
       "</style>\n",
       "<table border=\"1\" class=\"dataframe\">\n",
       "  <thead>\n",
       "    <tr style=\"text-align: right;\">\n",
       "      <th></th>\n",
       "      <th>pickup_location_id</th>\n",
       "      <th>predicted_demand</th>\n",
       "      <th>pickup_hour</th>\n",
       "    </tr>\n",
       "  </thead>\n",
       "  <tbody>\n",
       "    <tr>\n",
       "      <th>0</th>\n",
       "      <td>1</td>\n",
       "      <td>0.0</td>\n",
       "      <td>2023-05-24 11:00:00</td>\n",
       "    </tr>\n",
       "    <tr>\n",
       "      <th>1</th>\n",
       "      <td>2</td>\n",
       "      <td>0.0</td>\n",
       "      <td>2023-05-24 11:00:00</td>\n",
       "    </tr>\n",
       "    <tr>\n",
       "      <th>2</th>\n",
       "      <td>3</td>\n",
       "      <td>0.0</td>\n",
       "      <td>2023-05-24 11:00:00</td>\n",
       "    </tr>\n",
       "    <tr>\n",
       "      <th>3</th>\n",
       "      <td>4</td>\n",
       "      <td>3.0</td>\n",
       "      <td>2023-05-24 11:00:00</td>\n",
       "    </tr>\n",
       "    <tr>\n",
       "      <th>4</th>\n",
       "      <td>5</td>\n",
       "      <td>0.0</td>\n",
       "      <td>2023-05-24 11:00:00</td>\n",
       "    </tr>\n",
       "    <tr>\n",
       "      <th>...</th>\n",
       "      <td>...</td>\n",
       "      <td>...</td>\n",
       "      <td>...</td>\n",
       "    </tr>\n",
       "    <tr>\n",
       "      <th>260</th>\n",
       "      <td>261</td>\n",
       "      <td>32.0</td>\n",
       "      <td>2023-05-24 11:00:00</td>\n",
       "    </tr>\n",
       "    <tr>\n",
       "      <th>261</th>\n",
       "      <td>262</td>\n",
       "      <td>120.0</td>\n",
       "      <td>2023-05-24 11:00:00</td>\n",
       "    </tr>\n",
       "    <tr>\n",
       "      <th>262</th>\n",
       "      <td>263</td>\n",
       "      <td>125.0</td>\n",
       "      <td>2023-05-24 11:00:00</td>\n",
       "    </tr>\n",
       "    <tr>\n",
       "      <th>263</th>\n",
       "      <td>264</td>\n",
       "      <td>77.0</td>\n",
       "      <td>2023-05-24 11:00:00</td>\n",
       "    </tr>\n",
       "    <tr>\n",
       "      <th>264</th>\n",
       "      <td>265</td>\n",
       "      <td>12.0</td>\n",
       "      <td>2023-05-24 11:00:00</td>\n",
       "    </tr>\n",
       "  </tbody>\n",
       "</table>\n",
       "<p>265 rows × 3 columns</p>\n",
       "</div>"
      ],
      "text/plain": [
       "     pickup_location_id  predicted_demand         pickup_hour\n",
       "0                     1               0.0 2023-05-24 11:00:00\n",
       "1                     2               0.0 2023-05-24 11:00:00\n",
       "2                     3               0.0 2023-05-24 11:00:00\n",
       "3                     4               3.0 2023-05-24 11:00:00\n",
       "4                     5               0.0 2023-05-24 11:00:00\n",
       "..                  ...               ...                 ...\n",
       "260                 261              32.0 2023-05-24 11:00:00\n",
       "261                 262             120.0 2023-05-24 11:00:00\n",
       "262                 263             125.0 2023-05-24 11:00:00\n",
       "263                 264              77.0 2023-05-24 11:00:00\n",
       "264                 265              12.0 2023-05-24 11:00:00\n",
       "\n",
       "[265 rows x 3 columns]"
      ]
     },
     "execution_count": 6,
     "metadata": {},
     "output_type": "execute_result"
    }
   ],
   "source": [
    "predictions['pickup_hour'] = current_date\n",
    "predictions"
   ]
  },
  {
   "attachments": {},
   "cell_type": "markdown",
   "metadata": {},
   "source": [
    "### Save these predictions in the feature store, so they can be later consumed by our Streamlit app"
   ]
  },
  {
   "cell_type": "code",
   "execution_count": 7,
   "metadata": {},
   "outputs": [
    {
     "name": "stdout",
     "output_type": "stream",
     "text": [
      "Connection closed.\n",
      "Connected. Call `.close()` to terminate connection gracefully.\n",
      "\n",
      "Logged in to project, explore it here https://c.app.hopsworks.ai:443/p/47255\n",
      "Connected. Call `.close()` to terminate connection gracefully.\n"
     ]
    }
   ],
   "source": [
    "from src.feature_store_api import get_feature_store\n",
    "import src.config as config\n",
    "\n",
    "# connect to the feature group\n",
    "feature_group = get_feature_store().get_or_create_feature_group(\n",
    "    name=config.FEATURE_GROUP_MODEL_PREDICTIONS,\n",
    "    version=1,\n",
    "    description=\"Predictions generate by our production model\",\n",
    "    primary_key = ['pickup_location_id', 'pickup_hour'],\n",
    "    event_time='pickup_hour',\n",
    ")"
   ]
  },
  {
   "cell_type": "code",
   "execution_count": 8,
   "metadata": {},
   "outputs": [
    {
     "name": "stderr",
     "output_type": "stream",
     "text": [
      "%3|1684929219.003|FAIL|Joaos-MacBook-Pro-2.local#producer-1| [thrd:ssl://c.app.hopsworks.ai:9092/bootstrap]: ssl://c.app.hopsworks.ai:9092/bootstrap: SSL handshake failed: error:1416F086:SSL routines:tls_process_server_certificate:certificate verify failed: broker certificate could not be verified, verify that ssl.ca.location is correctly configured or root CA certificates are installed (brew install openssl) (after 99ms in state SSL_HANDSHAKE)\n"
     ]
    },
    {
     "data": {
      "application/vnd.jupyter.widget-view+json": {
       "model_id": "d9716bd813f9455dbb9d55e3dd3b17c4",
       "version_major": 2,
       "version_minor": 0
      },
      "text/plain": [
       "Uploading Dataframe: 0.00% |          | Rows 0/265 | Elapsed Time: 00:00 | Remaining Time: ?"
      ]
     },
     "metadata": {},
     "output_type": "display_data"
    },
    {
     "name": "stderr",
     "output_type": "stream",
     "text": [
      "%3|1684929220.027|FAIL|Joaos-MacBook-Pro-2.local#producer-1| [thrd:ssl://3.142.251.253:9092/bootstrap]: ssl://3.142.251.253:9092/bootstrap: SSL handshake failed: error:1416F086:SSL routines:tls_process_server_certificate:certificate verify failed: broker certificate could not be verified, verify that ssl.ca.location is correctly configured or root CA certificates are installed (brew install openssl) (after 108ms in state SSL_HANDSHAKE)\n",
      "%3|1684929221.008|FAIL|Joaos-MacBook-Pro-2.local#producer-1| [thrd:ssl://3.145.101.110:9092/bootstrap]: ssl://3.145.101.110:9092/bootstrap: SSL handshake failed: error:1416F086:SSL routines:tls_process_server_certificate:certificate verify failed: broker certificate could not be verified, verify that ssl.ca.location is correctly configured or root CA certificates are installed (brew install openssl) (after 97ms in state SSL_HANDSHAKE)\n",
      "%3|1684929222.034|FAIL|Joaos-MacBook-Pro-2.local#producer-1| [thrd:ssl://3.145.101.110:9092/bootstrap]: ssl://3.145.101.110:9092/bootstrap: SSL handshake failed: error:1416F086:SSL routines:tls_process_server_certificate:certificate verify failed: broker certificate could not be verified, verify that ssl.ca.location is correctly configured or root CA certificates are installed (brew install openssl) (after 108ms in state SSL_HANDSHAKE, 1 identical error(s) suppressed)\n",
      "%3|1684929223.040|FAIL|Joaos-MacBook-Pro-2.local#producer-1| [thrd:ssl://c.app.hopsworks.ai:9092/bootstrap]: ssl://c.app.hopsworks.ai:9092/bootstrap: SSL handshake failed: error:1416F086:SSL routines:tls_process_server_certificate:certificate verify failed: broker certificate could not be verified, verify that ssl.ca.location is correctly configured or root CA certificates are installed (brew install openssl) (after 111ms in state SSL_HANDSHAKE, 1 identical error(s) suppressed)\n",
      "%3|1684929226.044|FAIL|Joaos-MacBook-Pro-2.local#producer-1| [thrd:ssl://3.142.251.253:9092/bootstrap]: ssl://3.142.251.253:9092/bootstrap: SSL handshake failed: error:1416F086:SSL routines:tls_process_server_certificate:certificate verify failed: broker certificate could not be verified, verify that ssl.ca.location is correctly configured or root CA certificates are installed (brew install openssl) (after 109ms in state SSL_HANDSHAKE, 1 identical error(s) suppressed)\n",
      "%3|1684929253.077|FAIL|Joaos-MacBook-Pro-2.local#producer-1| [thrd:ssl://3.145.101.110:9092/bootstrap]: ssl://3.145.101.110:9092/bootstrap: SSL handshake failed: error:1416F086:SSL routines:tls_process_server_certificate:certificate verify failed: broker certificate could not be verified, verify that ssl.ca.location is correctly configured or root CA certificates are installed (brew install openssl) (after 98ms in state SSL_HANDSHAKE, 9 identical error(s) suppressed)\n",
      "%3|1684929255.086|FAIL|Joaos-MacBook-Pro-2.local#producer-1| [thrd:ssl://c.app.hopsworks.ai:9092/bootstrap]: ssl://c.app.hopsworks.ai:9092/bootstrap: SSL handshake failed: error:1416F086:SSL routines:tls_process_server_certificate:certificate verify failed: broker certificate could not be verified, verify that ssl.ca.location is correctly configured or root CA certificates are installed (brew install openssl) (after 98ms in state SSL_HANDSHAKE, 11 identical error(s) suppressed)\n",
      "%3|1684929258.091|FAIL|Joaos-MacBook-Pro-2.local#producer-1| [thrd:ssl://3.142.251.253:9092/bootstrap]: ssl://3.142.251.253:9092/bootstrap: SSL handshake failed: error:1416F086:SSL routines:tls_process_server_certificate:certificate verify failed: broker certificate could not be verified, verify that ssl.ca.location is correctly configured or root CA certificates are installed (brew install openssl) (after 96ms in state SSL_HANDSHAKE, 12 identical error(s) suppressed)\n",
      "%3|1684929284.396|FAIL|Joaos-MacBook-Pro-2.local#producer-1| [thrd:ssl://3.145.101.110:9092/bootstrap]: ssl://3.145.101.110:9092/bootstrap: SSL handshake failed: error:1416F086:SSL routines:tls_process_server_certificate:certificate verify failed: broker certificate could not be verified, verify that ssl.ca.location is correctly configured or root CA certificates are installed (brew install openssl) (after 108ms in state SSL_HANDSHAKE, 6 identical error(s) suppressed)\n",
      "%3|1684929285.378|FAIL|Joaos-MacBook-Pro-2.local#producer-1| [thrd:ssl://c.app.hopsworks.ai:9092/bootstrap]: ssl://c.app.hopsworks.ai:9092/bootstrap: SSL handshake failed: error:1416F086:SSL routines:tls_process_server_certificate:certificate verify failed: broker certificate could not be verified, verify that ssl.ca.location is correctly configured or root CA certificates are installed (brew install openssl) (after 96ms in state SSL_HANDSHAKE, 11 identical error(s) suppressed)\n",
      "%3|1684929291.406|FAIL|Joaos-MacBook-Pro-2.local#producer-1| [thrd:ssl://3.142.251.253:9092/bootstrap]: ssl://3.142.251.253:9092/bootstrap: SSL handshake failed: error:1416F086:SSL routines:tls_process_server_certificate:certificate verify failed: broker certificate could not be verified, verify that ssl.ca.location is correctly configured or root CA certificates are installed (brew install openssl) (after 106ms in state SSL_HANDSHAKE, 13 identical error(s) suppressed)\n",
      "%3|1684929316.438|FAIL|Joaos-MacBook-Pro-2.local#producer-1| [thrd:ssl://c.app.hopsworks.ai:9092/bootstrap]: ssl://c.app.hopsworks.ai:9092/bootstrap: SSL handshake failed: error:1416F086:SSL routines:tls_process_server_certificate:certificate verify failed: broker certificate could not be verified, verify that ssl.ca.location is correctly configured or root CA certificates are installed (brew install openssl) (after 99ms in state SSL_HANDSHAKE, 8 identical error(s) suppressed)\n",
      "%3|1684929318.472|FAIL|Joaos-MacBook-Pro-2.local#producer-1| [thrd:ssl://3.145.101.110:9092/bootstrap]: ssl://3.145.101.110:9092/bootstrap: SSL handshake failed: error:1416F086:SSL routines:tls_process_server_certificate:certificate verify failed: broker certificate could not be verified, verify that ssl.ca.location is correctly configured or root CA certificates are installed (brew install openssl) (after 108ms in state SSL_HANDSHAKE, 17 identical error(s) suppressed)\n",
      "%3|1684929324.469|FAIL|Joaos-MacBook-Pro-2.local#producer-1| [thrd:ssl://3.142.251.253:9092/bootstrap]: ssl://3.142.251.253:9092/bootstrap: SSL handshake failed: error:1416F086:SSL routines:tls_process_server_certificate:certificate verify failed: broker certificate could not be verified, verify that ssl.ca.location is correctly configured or root CA certificates are installed (brew install openssl) (after 96ms in state SSL_HANDSHAKE, 10 identical error(s) suppressed)\n",
      "%3|1684929347.514|FAIL|Joaos-MacBook-Pro-2.local#producer-1| [thrd:ssl://c.app.hopsworks.ai:9092/bootstrap]: ssl://c.app.hopsworks.ai:9092/bootstrap: SSL handshake failed: error:1416F086:SSL routines:tls_process_server_certificate:certificate verify failed: broker certificate could not be verified, verify that ssl.ca.location is correctly configured or root CA certificates are installed (brew install openssl) (after 99ms in state SSL_HANDSHAKE, 7 identical error(s) suppressed)\n",
      "%3|1684929350.517|FAIL|Joaos-MacBook-Pro-2.local#producer-1| [thrd:ssl://3.145.101.110:9092/bootstrap]: ssl://3.145.101.110:9092/bootstrap: SSL handshake failed: error:1416F086:SSL routines:tls_process_server_certificate:certificate verify failed: broker certificate could not be verified, verify that ssl.ca.location is correctly configured or root CA certificates are installed (brew install openssl) (after 97ms in state SSL_HANDSHAKE, 10 identical error(s) suppressed)\n",
      "%3|1684929356.549|FAIL|Joaos-MacBook-Pro-2.local#producer-1| [thrd:ssl://3.142.251.253:9092/bootstrap]: ssl://3.142.251.253:9092/bootstrap: SSL handshake failed: error:1416F086:SSL routines:tls_process_server_certificate:certificate verify failed: broker certificate could not be verified, verify that ssl.ca.location is correctly configured or root CA certificates are installed (brew install openssl) (after 108ms in state SSL_HANDSHAKE, 13 identical error(s) suppressed)\n",
      "%3|1684929379.589|FAIL|Joaos-MacBook-Pro-2.local#producer-1| [thrd:ssl://c.app.hopsworks.ai:9092/bootstrap]: ssl://c.app.hopsworks.ai:9092/bootstrap: SSL handshake failed: error:1416F086:SSL routines:tls_process_server_certificate:certificate verify failed: broker certificate could not be verified, verify that ssl.ca.location is correctly configured or root CA certificates are installed (brew install openssl) (after 96ms in state SSL_HANDSHAKE, 9 identical error(s) suppressed)\n",
      "%3|1684929381.616|FAIL|Joaos-MacBook-Pro-2.local#producer-1| [thrd:ssl://3.145.101.110:9092/bootstrap]: ssl://3.145.101.110:9092/bootstrap: SSL handshake failed: error:1416F086:SSL routines:tls_process_server_certificate:certificate verify failed: broker certificate could not be verified, verify that ssl.ca.location is correctly configured or root CA certificates are installed (brew install openssl) (after 107ms in state SSL_HANDSHAKE, 8 identical error(s) suppressed)\n",
      "%3|1684929389.639|FAIL|Joaos-MacBook-Pro-2.local#producer-1| [thrd:ssl://3.142.251.253:9092/bootstrap]: ssl://3.142.251.253:9092/bootstrap: SSL handshake failed: error:1416F086:SSL routines:tls_process_server_certificate:certificate verify failed: broker certificate could not be verified, verify that ssl.ca.location is correctly configured or root CA certificates are installed (brew install openssl) (after 109ms in state SSL_HANDSHAKE, 15 identical error(s) suppressed)\n",
      "%3|1684929409.693|FAIL|Joaos-MacBook-Pro-2.local#producer-1| [thrd:ssl://c.app.hopsworks.ai:9092/bootstrap]: ssl://c.app.hopsworks.ai:9092/bootstrap: SSL handshake failed: error:1416F086:SSL routines:tls_process_server_certificate:certificate verify failed: broker certificate could not be verified, verify that ssl.ca.location is correctly configured or root CA certificates are installed (brew install openssl) (after 108ms in state SSL_HANDSHAKE, 9 identical error(s) suppressed)\n",
      "%3|1684929411.676|FAIL|Joaos-MacBook-Pro-2.local#producer-1| [thrd:ssl://3.145.101.110:9092/bootstrap]: ssl://3.145.101.110:9092/bootstrap: SSL handshake failed: error:1416F086:SSL routines:tls_process_server_certificate:certificate verify failed: broker certificate could not be verified, verify that ssl.ca.location is correctly configured or root CA certificates are installed (brew install openssl) (after 97ms in state SSL_HANDSHAKE, 15 identical error(s) suppressed)\n",
      "%3|1684929419.714|FAIL|Joaos-MacBook-Pro-2.local#producer-1| [thrd:ssl://3.142.251.253:9092/bootstrap]: ssl://3.142.251.253:9092/bootstrap: SSL handshake failed: error:1416F086:SSL routines:tls_process_server_certificate:certificate verify failed: broker certificate could not be verified, verify that ssl.ca.location is correctly configured or root CA certificates are installed (brew install openssl) (after 107ms in state SSL_HANDSHAKE, 7 identical error(s) suppressed)\n",
      "%3|1684929440.971|FAIL|Joaos-MacBook-Pro-2.local#producer-1| [thrd:ssl://c.app.hopsworks.ai:9092/bootstrap]: ssl://c.app.hopsworks.ai:9092/bootstrap: SSL handshake failed: error:1416F086:SSL routines:tls_process_server_certificate:certificate verify failed: broker certificate could not be verified, verify that ssl.ca.location is correctly configured or root CA certificates are installed (brew install openssl) (after 105ms in state SSL_HANDSHAKE, 8 identical error(s) suppressed)\n",
      "%3|1684929445.795|FAIL|Joaos-MacBook-Pro-2.local#producer-1| [thrd:ssl://3.145.101.110:9092/bootstrap]: ssl://3.145.101.110:9092/bootstrap: SSL handshake failed: error:1416F086:SSL routines:tls_process_server_certificate:certificate verify failed: broker certificate could not be verified, verify that ssl.ca.location is correctly configured or root CA certificates are installed (brew install openssl) (after 97ms in state SSL_HANDSHAKE, 10 identical error(s) suppressed)\n",
      "%3|1684929450.810|FAIL|Joaos-MacBook-Pro-2.local#producer-1| [thrd:ssl://3.142.251.253:9092/bootstrap]: ssl://3.142.251.253:9092/bootstrap: SSL handshake failed: error:1416F086:SSL routines:tls_process_server_certificate:certificate verify failed: broker certificate could not be verified, verify that ssl.ca.location is correctly configured or root CA certificates are installed (brew install openssl) (after 97ms in state SSL_HANDSHAKE, 14 identical error(s) suppressed)\n",
      "%3|1684929471.864|FAIL|Joaos-MacBook-Pro-2.local#producer-1| [thrd:ssl://c.app.hopsworks.ai:9092/bootstrap]: ssl://c.app.hopsworks.ai:9092/bootstrap: SSL handshake failed: error:1416F086:SSL routines:tls_process_server_certificate:certificate verify failed: broker certificate could not be verified, verify that ssl.ca.location is correctly configured or root CA certificates are installed (brew install openssl) (after 98ms in state SSL_HANDSHAKE, 10 identical error(s) suppressed)\n",
      "%3|1684929479.883|FAIL|Joaos-MacBook-Pro-2.local#producer-1| [thrd:ssl://3.145.101.110:9092/bootstrap]: ssl://3.145.101.110:9092/bootstrap: SSL handshake failed: error:1416F086:SSL routines:tls_process_server_certificate:certificate verify failed: broker certificate could not be verified, verify that ssl.ca.location is correctly configured or root CA certificates are installed (brew install openssl) (after 96ms in state SSL_HANDSHAKE, 10 identical error(s) suppressed)\n",
      "%3|1684929480.885|FAIL|Joaos-MacBook-Pro-2.local#producer-1| [thrd:ssl://3.142.251.253:9092/bootstrap]: ssl://3.142.251.253:9092/bootstrap: SSL handshake failed: error:1416F086:SSL routines:tls_process_server_certificate:certificate verify failed: broker certificate could not be verified, verify that ssl.ca.location is correctly configured or root CA certificates are installed (brew install openssl) (after 98ms in state SSL_HANDSHAKE, 10 identical error(s) suppressed)\n",
      "%3|1684929503.947|FAIL|Joaos-MacBook-Pro-2.local#producer-1| [thrd:ssl://c.app.hopsworks.ai:9092/bootstrap]: ssl://c.app.hopsworks.ai:9092/bootstrap: SSL handshake failed: error:1416F086:SSL routines:tls_process_server_certificate:certificate verify failed: broker certificate could not be verified, verify that ssl.ca.location is correctly configured or root CA certificates are installed (brew install openssl) (after 97ms in state SSL_HANDSHAKE, 13 identical error(s) suppressed)\n",
      "%3|1684929509.981|FAIL|Joaos-MacBook-Pro-2.local#producer-1| [thrd:ssl://3.145.101.110:9092/bootstrap]: ssl://3.145.101.110:9092/bootstrap: SSL handshake failed: error:1416F086:SSL routines:tls_process_server_certificate:certificate verify failed: broker certificate could not be verified, verify that ssl.ca.location is correctly configured or root CA certificates are installed (brew install openssl) (after 107ms in state SSL_HANDSHAKE, 11 identical error(s) suppressed)\n",
      "%3|1684929516.008|FAIL|Joaos-MacBook-Pro-2.local#producer-1| [thrd:ssl://3.142.251.253:9092/bootstrap]: ssl://3.142.251.253:9092/bootstrap: SSL handshake failed: error:1416F086:SSL routines:tls_process_server_certificate:certificate verify failed: broker certificate could not be verified, verify that ssl.ca.location is correctly configured or root CA certificates are installed (brew install openssl) (after 108ms in state SSL_HANDSHAKE, 7 identical error(s) suppressed)\n"
     ]
    },
    {
     "name": "stdout",
     "output_type": "stream",
     "text": [
      "Launching offline feature group backfill job...\n",
      "Backfill Job started successfully, you can follow the progress at \n",
      "https://c.app.hopsworks.ai/p/47255/jobs/named/model_predictions_feature_group_1_offline_fg_backfill/executions\n"
     ]
    },
    {
     "data": {
      "text/plain": [
       "(<hsfs.core.job.Job at 0x17f33cc70>, None)"
      ]
     },
     "execution_count": 8,
     "metadata": {},
     "output_type": "execute_result"
    }
   ],
   "source": [
    "feature_group.insert(predictions, write_options={\"wait_for_job\": False})"
   ]
  },
  {
   "cell_type": "code",
   "execution_count": null,
   "metadata": {},
   "outputs": [],
   "source": []
  }
 ],
 "metadata": {
  "kernelspec": {
   "display_name": ".venv",
   "language": "python",
   "name": "python3"
  },
  "language_info": {
   "codemirror_mode": {
    "name": "ipython",
    "version": 3
   },
   "file_extension": ".py",
   "mimetype": "text/x-python",
   "name": "python",
   "nbconvert_exporter": "python",
   "pygments_lexer": "ipython3",
   "version": "3.9.16"
  },
  "orig_nbformat": 4
 },
 "nbformat": 4,
 "nbformat_minor": 2
}
