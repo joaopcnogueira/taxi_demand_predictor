{
 "cells": [
  {
   "cell_type": "code",
   "execution_count": 1,
   "metadata": {},
   "outputs": [
    {
     "data": {
      "text/plain": [
       "True"
      ]
     },
     "execution_count": 1,
     "metadata": {},
     "output_type": "execute_result"
    }
   ],
   "source": [
    "import os\n",
    "from dotenv import load_dotenv\n",
    "from src.paths import PARENT_DIR\n",
    "\n",
    "load_dotenv(PARENT_DIR / '.env')"
   ]
  },
  {
   "cell_type": "code",
   "execution_count": 2,
   "metadata": {},
   "outputs": [],
   "source": [
    "HOPSWORK_PROJECT_NAME = 'taxi_demand5'\n",
    "HOPWSWORKS_API_KEY = os.environ['HOPSWORKS_API_KEY']"
   ]
  },
  {
   "cell_type": "code",
   "execution_count": 3,
   "metadata": {},
   "outputs": [
    {
     "name": "stdout",
     "output_type": "stream",
     "text": [
      "Downloading raw data from 2022 to 2023\n",
      "File 2022-01 was already in local storage\n",
      "File 2022-02 was already in local storage\n",
      "File 2022-03 was already in local storage\n",
      "File 2022-04 was already in local storage\n",
      "File 2022-05 was already in local storage\n",
      "File 2022-06 was already in local storage\n",
      "File 2022-07 was already in local storage\n",
      "File 2022-08 was already in local storage\n",
      "File 2022-09 was already in local storage\n",
      "File 2022-10 was already in local storage\n",
      "File 2022-11 was already in local storage\n",
      "File 2022-12 was already in local storage\n",
      "File 2023-01 was already in local storage\n",
      "File 2023-02 was already in local storage\n",
      "Downloading file 2023-03\n",
      "2023-03 file is not available\n",
      "Downloading file 2023-04\n",
      "2023-04 file is not available\n",
      "Downloading file 2023-05\n",
      "2023-05 file is not available\n",
      "Downloading file 2023-06\n",
      "2023-06 file is not available\n",
      "Downloading file 2023-07\n",
      "2023-07 file is not available\n",
      "Downloading file 2023-08\n",
      "2023-08 file is not available\n",
      "Downloading file 2023-09\n",
      "2023-09 file is not available\n",
      "Downloading file 2023-10\n",
      "2023-10 file is not available\n",
      "Downloading file 2023-11\n",
      "2023-11 file is not available\n",
      "Downloading file 2023-12\n",
      "2023-12 file is not available\n"
     ]
    }
   ],
   "source": [
    "import pandas as pd\n",
    "from datetime import datetime\n",
    "from src.data import load_raw_data\n",
    "\n",
    "from_year = 2022\n",
    "to_year = datetime.now().year\n",
    "print(f\"Downloading raw data from {from_year} to {to_year}\")\n",
    "\n",
    "rides = pd.DataFrame()\n",
    "for year in range(from_year, to_year+1):\n",
    "    # download data for the whole year\n",
    "    rides_one_year = load_raw_data(year)\n",
    "    # append rows\n",
    "    rides = pd.concat([rides, rides_one_year])"
   ]
  },
  {
   "cell_type": "code",
   "execution_count": 4,
   "metadata": {},
   "outputs": [
    {
     "name": "stdout",
     "output_type": "stream",
     "text": [
      "len(rides)=45635252\n"
     ]
    }
   ],
   "source": [
    "print(f'{len(rides)=}')"
   ]
  },
  {
   "cell_type": "code",
   "execution_count": 5,
   "metadata": {},
   "outputs": [
    {
     "name": "stderr",
     "output_type": "stream",
     "text": [
      "100%|██████████| 265/265 [00:01<00:00, 156.87it/s]\n"
     ]
    }
   ],
   "source": [
    "from src.data import transform_raw_data_into_ts_data\n",
    "\n",
    "ts_data = transform_raw_data_into_ts_data(rides)"
   ]
  },
  {
   "cell_type": "code",
   "execution_count": 7,
   "metadata": {},
   "outputs": [
    {
     "data": {
      "text/html": [
       "<div>\n",
       "<style scoped>\n",
       "    .dataframe tbody tr th:only-of-type {\n",
       "        vertical-align: middle;\n",
       "    }\n",
       "\n",
       "    .dataframe tbody tr th {\n",
       "        vertical-align: top;\n",
       "    }\n",
       "\n",
       "    .dataframe thead th {\n",
       "        text-align: right;\n",
       "    }\n",
       "</style>\n",
       "<table border=\"1\" class=\"dataframe\">\n",
       "  <thead>\n",
       "    <tr style=\"text-align: right;\">\n",
       "      <th></th>\n",
       "      <th>pickup_hour</th>\n",
       "      <th>rides</th>\n",
       "      <th>pickup_location_id</th>\n",
       "    </tr>\n",
       "  </thead>\n",
       "  <tbody>\n",
       "    <tr>\n",
       "      <th>0</th>\n",
       "      <td>2022-01-01 00:00:00</td>\n",
       "      <td>0</td>\n",
       "      <td>1</td>\n",
       "    </tr>\n",
       "    <tr>\n",
       "      <th>1</th>\n",
       "      <td>2022-01-01 01:00:00</td>\n",
       "      <td>0</td>\n",
       "      <td>1</td>\n",
       "    </tr>\n",
       "    <tr>\n",
       "      <th>2</th>\n",
       "      <td>2022-01-01 02:00:00</td>\n",
       "      <td>0</td>\n",
       "      <td>1</td>\n",
       "    </tr>\n",
       "    <tr>\n",
       "      <th>3</th>\n",
       "      <td>2022-01-01 03:00:00</td>\n",
       "      <td>0</td>\n",
       "      <td>1</td>\n",
       "    </tr>\n",
       "    <tr>\n",
       "      <th>4</th>\n",
       "      <td>2022-01-01 04:00:00</td>\n",
       "      <td>1</td>\n",
       "      <td>1</td>\n",
       "    </tr>\n",
       "    <tr>\n",
       "      <th>...</th>\n",
       "      <td>...</td>\n",
       "      <td>...</td>\n",
       "      <td>...</td>\n",
       "    </tr>\n",
       "    <tr>\n",
       "      <th>2696635</th>\n",
       "      <td>2023-02-28 19:00:00</td>\n",
       "      <td>5</td>\n",
       "      <td>265</td>\n",
       "    </tr>\n",
       "    <tr>\n",
       "      <th>2696636</th>\n",
       "      <td>2023-02-28 20:00:00</td>\n",
       "      <td>5</td>\n",
       "      <td>265</td>\n",
       "    </tr>\n",
       "    <tr>\n",
       "      <th>2696637</th>\n",
       "      <td>2023-02-28 21:00:00</td>\n",
       "      <td>7</td>\n",
       "      <td>265</td>\n",
       "    </tr>\n",
       "    <tr>\n",
       "      <th>2696638</th>\n",
       "      <td>2023-02-28 22:00:00</td>\n",
       "      <td>5</td>\n",
       "      <td>265</td>\n",
       "    </tr>\n",
       "    <tr>\n",
       "      <th>2696639</th>\n",
       "      <td>2023-02-28 23:00:00</td>\n",
       "      <td>5</td>\n",
       "      <td>265</td>\n",
       "    </tr>\n",
       "  </tbody>\n",
       "</table>\n",
       "<p>2696640 rows × 3 columns</p>\n",
       "</div>"
      ],
      "text/plain": [
       "                pickup_hour  rides  pickup_location_id\n",
       "0       2022-01-01 00:00:00      0                   1\n",
       "1       2022-01-01 01:00:00      0                   1\n",
       "2       2022-01-01 02:00:00      0                   1\n",
       "3       2022-01-01 03:00:00      0                   1\n",
       "4       2022-01-01 04:00:00      1                   1\n",
       "...                     ...    ...                 ...\n",
       "2696635 2023-02-28 19:00:00      5                 265\n",
       "2696636 2023-02-28 20:00:00      5                 265\n",
       "2696637 2023-02-28 21:00:00      7                 265\n",
       "2696638 2023-02-28 22:00:00      5                 265\n",
       "2696639 2023-02-28 23:00:00      5                 265\n",
       "\n",
       "[2696640 rows x 3 columns]"
      ]
     },
     "execution_count": 7,
     "metadata": {},
     "output_type": "execute_result"
    }
   ],
   "source": [
    "ts_data"
   ]
  },
  {
   "cell_type": "code",
   "execution_count": 6,
   "metadata": {},
   "outputs": [
    {
     "name": "stdout",
     "output_type": "stream",
     "text": [
      "len(ts_data)=2696640\n"
     ]
    }
   ],
   "source": [
    "print(f'{len(ts_data)=}')"
   ]
  },
  {
   "cell_type": "code",
   "execution_count": 8,
   "metadata": {},
   "outputs": [],
   "source": [
    "import hopsworks"
   ]
  },
  {
   "cell_type": "code",
   "execution_count": 9,
   "metadata": {},
   "outputs": [
    {
     "name": "stdout",
     "output_type": "stream",
     "text": [
      "Connected. Call `.close()` to terminate connection gracefully.\n"
     ]
    },
    {
     "ename": "ProjectException",
     "evalue": "Could not find project taxi_demand5",
     "output_type": "error",
     "traceback": [
      "\u001b[0;31m---------------------------------------------------------------------------\u001b[0m",
      "\u001b[0;31mProjectException\u001b[0m                          Traceback (most recent call last)",
      "Cell \u001b[0;32mIn[9], line 1\u001b[0m\n\u001b[0;32m----> 1\u001b[0m project \u001b[39m=\u001b[39m hopsworks\u001b[39m.\u001b[39;49mlogin(\n\u001b[1;32m      2\u001b[0m     project\u001b[39m=\u001b[39;49mHOPSWORK_PROJECT_NAME,\n\u001b[1;32m      3\u001b[0m     api_key_value\u001b[39m=\u001b[39;49mHOPWSWORKS_API_KEY\n\u001b[1;32m      4\u001b[0m )\n",
      "File \u001b[0;32m/workspace/.pyenv_mirror/poetry/virtualenvs/src-7mvA2mE3-py3.10/lib/python3.10/site-packages/hopsworks/__init__.py:186\u001b[0m, in \u001b[0;36mlogin\u001b[0;34m(host, port, project, api_key_value, api_key_file)\u001b[0m\n\u001b[1;32m    184\u001b[0m \u001b[39mtry\u001b[39;00m:\n\u001b[1;32m    185\u001b[0m     _saas_connection \u001b[39m=\u001b[39m _saas_connection(host\u001b[39m=\u001b[39mhost, port\u001b[39m=\u001b[39mport, api_key_value\u001b[39m=\u001b[39mapi_key)\n\u001b[0;32m--> 186\u001b[0m     project_obj \u001b[39m=\u001b[39m _prompt_project(_saas_connection, project)\n\u001b[1;32m    187\u001b[0m \u001b[39mexcept\u001b[39;00m RestAPIError \u001b[39mas\u001b[39;00m e:\n\u001b[1;32m    188\u001b[0m     logout()\n",
      "File \u001b[0;32m/workspace/.pyenv_mirror/poetry/virtualenvs/src-7mvA2mE3-py3.10/lib/python3.10/site-packages/hopsworks/__init__.py:231\u001b[0m, in \u001b[0;36m_prompt_project\u001b[0;34m(valid_connection, project)\u001b[0m\n\u001b[1;32m    229\u001b[0m     \u001b[39mif\u001b[39;00m proj\u001b[39m.\u001b[39mname \u001b[39m==\u001b[39m project:\n\u001b[1;32m    230\u001b[0m         \u001b[39mreturn\u001b[39;00m proj\n\u001b[0;32m--> 231\u001b[0m \u001b[39mraise\u001b[39;00m ProjectException(\u001b[39m\"\u001b[39m\u001b[39mCould not find project \u001b[39m\u001b[39m{}\u001b[39;00m\u001b[39m\"\u001b[39m\u001b[39m.\u001b[39mformat(project))\n",
      "\u001b[0;31mProjectException\u001b[0m: Could not find project taxi_demand5"
     ]
    }
   ],
   "source": [
    "project = hopsworks.login(\n",
    "    project=HOPSWORK_PROJECT_NAME,\n",
    "    api_key_value=HOPWSWORKS_API_KEY\n",
    ")"
   ]
  }
 ],
 "metadata": {
  "kernelspec": {
   "display_name": "src-7mvA2mE3-py3.10",
   "language": "python",
   "name": "python3"
  },
  "language_info": {
   "codemirror_mode": {
    "name": "ipython",
    "version": 3
   },
   "file_extension": ".py",
   "mimetype": "text/x-python",
   "name": "python",
   "nbconvert_exporter": "python",
   "pygments_lexer": "ipython3",
   "version": "3.10.9"
  },
  "orig_nbformat": 4
 },
 "nbformat": 4,
 "nbformat_minor": 2
}
